{
 "cells": [
  {
   "cell_type": "code",
   "execution_count": 1,
   "id": "fcc895e1",
   "metadata": {},
   "outputs": [
    {
     "data": {
      "text/plain": [
       "'\\nhttps://www.tensorflow.org/api_docs/python/tf/keras/layers/Conv2DTranspose\\n@author: Allan\\n'"
      ]
     },
     "execution_count": 1,
     "metadata": {},
     "output_type": "execute_result"
    }
   ],
   "source": [
    "\"\"\"\n",
    "https://www.tensorflow.org/api_docs/python/tf/keras/layers/Conv2DTranspose\n",
    "@author: Allan\n",
    "\"\"\"\n"
   ]
  },
  {
   "cell_type": "code",
   "execution_count": 2,
   "id": "36c5d636",
   "metadata": {},
   "outputs": [],
   "source": [
    "import tensorflow as tf"
   ]
  },
  {
   "cell_type": "markdown",
   "id": "3305f2c7",
   "metadata": {},
   "source": [
    "# #1: Function to calculte output of Conv2DTranspose"
   ]
  },
  {
   "cell_type": "code",
   "execution_count": 3,
   "id": "e427aa1d",
   "metadata": {},
   "outputs": [],
   "source": [
    "def calculate_output_conv2d_transpose( dimensions, kernel_size, strides, padding=(0,0), output_padding=(0,0) ):\n",
    "    rows = dimensions[0]\n",
    "    cols = dimensions[1]\n",
    "    \n",
    "    new_rows = ((rows - 1) * strides[0] + kernel_size[0] - 2 * padding[0] + output_padding[0])\n",
    "    new_cols = ((cols - 1) * strides[1] + kernel_size[1] - 2 * padding[1] + output_padding[1])\n",
    "\n",
    "    return (new_rows, new_cols)"
   ]
  },
  {
   "cell_type": "code",
   "execution_count": 4,
   "id": "c2884f45",
   "metadata": {},
   "outputs": [
    {
     "data": {
      "text/plain": [
       "(56, 56)"
      ]
     },
     "execution_count": 4,
     "metadata": {},
     "output_type": "execute_result"
    }
   ],
   "source": [
    "calculate_output_conv2d_transpose(dimensions=(28,28), kernel_size=(2,2), strides=(2,2) )"
   ]
  },
  {
   "cell_type": "code",
   "execution_count": 14,
   "id": "1e17b420",
   "metadata": {},
   "outputs": [
    {
     "data": {
      "text/plain": [
       "(17, 17)"
      ]
     },
     "execution_count": 14,
     "metadata": {},
     "output_type": "execute_result"
    }
   ],
   "source": [
    "dims_input = (7,7)\n",
    "kernel_size = (5,5)\n",
    "strides = (2,2)\n",
    "\n",
    "calculate_output_conv2d_transpose(dimensions=dims_input, kernel_size=kernel_size, strides=strides )"
   ]
  },
  {
   "cell_type": "markdown",
   "id": "8fe54241",
   "metadata": {},
   "source": [
    "### Simulating progression of outputs"
   ]
  },
  {
   "cell_type": "code",
   "execution_count": 5,
   "id": "562be22d",
   "metadata": {},
   "outputs": [
    {
     "name": "stdout",
     "output_type": "stream",
     "text": [
      "(56, 56)\n",
      "(112, 112)\n",
      "(224, 224)\n",
      "(448, 448)\n",
      "(896, 896)\n"
     ]
    }
   ],
   "source": [
    "x = (28,28)\n",
    "dims = (2,2)\n",
    "\n",
    "kernel_size= dims\n",
    "strides = dims\n",
    "\n",
    "for i in range(5):  \n",
    "    x = calculate_output_conv2d_transpose(dimensions= x, kernel_size=kernel_size, strides=kernel_size)\n",
    "    print(x)"
   ]
  },
  {
   "cell_type": "code",
   "execution_count": null,
   "id": "c500633e",
   "metadata": {},
   "outputs": [],
   "source": []
  },
  {
   "cell_type": "markdown",
   "id": "61058061",
   "metadata": {},
   "source": [
    "# #2"
   ]
  },
  {
   "cell_type": "code",
   "execution_count": null,
   "id": "bdb6fc15",
   "metadata": {},
   "outputs": [],
   "source": []
  }
 ],
 "metadata": {
  "kernelspec": {
   "display_name": "Python 3 (ipykernel)",
   "language": "python",
   "name": "python3"
  },
  "language_info": {
   "codemirror_mode": {
    "name": "ipython",
    "version": 3
   },
   "file_extension": ".py",
   "mimetype": "text/x-python",
   "name": "python",
   "nbconvert_exporter": "python",
   "pygments_lexer": "ipython3",
   "version": "3.7.13"
  }
 },
 "nbformat": 4,
 "nbformat_minor": 5
}
