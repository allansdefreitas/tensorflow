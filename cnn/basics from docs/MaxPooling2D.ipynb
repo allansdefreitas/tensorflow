{
 "cells": [
  {
   "cell_type": "code",
   "execution_count": null,
   "id": "fcc895e1",
   "metadata": {},
   "outputs": [],
   "source": [
    "\"\"\"\n",
    "https://www.tensorflow.org/api_docs/python/tf/keras/layers/MaxPooling2D\n",
    "\"\"\""
   ]
  },
  {
   "cell_type": "code",
   "execution_count": 2,
   "id": "36c5d636",
   "metadata": {},
   "outputs": [],
   "source": [
    "import tensorflow as tf"
   ]
  },
  {
   "cell_type": "markdown",
   "id": "3305f2c7",
   "metadata": {},
   "source": [
    "# #1"
   ]
  },
  {
   "cell_type": "code",
   "execution_count": 9,
   "id": "dc54fec8",
   "metadata": {},
   "outputs": [],
   "source": [
    "x = tf.constant([[1., 2., 3.],\n",
    "                 [4., 5., 6.],\n",
    "                 [7., 8., 9.]])"
   ]
  },
  {
   "cell_type": "code",
   "execution_count": 12,
   "id": "1508d7a3",
   "metadata": {},
   "outputs": [
    {
     "data": {
      "text/plain": [
       "<tf.Tensor: shape=(1, 3, 3, 1), dtype=float32, numpy=\n",
       "array([[[[1.],\n",
       "         [2.],\n",
       "         [3.]],\n",
       "\n",
       "        [[4.],\n",
       "         [5.],\n",
       "         [6.]],\n",
       "\n",
       "        [[7.],\n",
       "         [8.],\n",
       "         [9.]]]], dtype=float32)>"
      ]
     },
     "execution_count": 12,
     "metadata": {},
     "output_type": "execute_result"
    }
   ],
   "source": [
    "x = tf.reshape(x, [1, 3, 3, 1])\n",
    "x"
   ]
  },
  {
   "cell_type": "code",
   "execution_count": 5,
   "id": "cedbfbf2",
   "metadata": {},
   "outputs": [
    {
     "data": {
      "text/plain": [
       "<tf.Tensor: shape=(1, 2, 2, 1), dtype=float32, numpy=\n",
       "array([[[[5.],\n",
       "         [6.]],\n",
       "\n",
       "        [[8.],\n",
       "         [9.]]]], dtype=float32)>"
      ]
     },
     "execution_count": 5,
     "metadata": {},
     "output_type": "execute_result"
    }
   ],
   "source": [
    "max_pool_2d = tf.keras.layers.MaxPooling2D(pool_size=(2, 2),\n",
    "   strides=(1, 1), padding='valid')\n",
    "max_pool_2d(x)"
   ]
  },
  {
   "cell_type": "markdown",
   "id": "61058061",
   "metadata": {},
   "source": [
    "# #2"
   ]
  },
  {
   "cell_type": "code",
   "execution_count": 15,
   "id": "5dc0e18a",
   "metadata": {},
   "outputs": [
    {
     "data": {
      "text/plain": [
       "<tf.Tensor: shape=(3, 4), dtype=float32, numpy=\n",
       "array([[ 1.,  2.,  3.,  4.],\n",
       "       [ 5.,  6.,  7.,  8.],\n",
       "       [ 9., 10., 11., 12.]], dtype=float32)>"
      ]
     },
     "execution_count": 15,
     "metadata": {},
     "output_type": "execute_result"
    }
   ],
   "source": [
    "x = tf.constant([[1., 2., 3., 4.],\n",
    "                 [5., 6., 7., 8.],\n",
    "                 [9., 10., 11., 12.]])\n",
    "x"
   ]
  },
  {
   "cell_type": "code",
   "execution_count": 16,
   "id": "136d0470",
   "metadata": {},
   "outputs": [
    {
     "data": {
      "text/plain": [
       "<tf.Tensor: shape=(1, 3, 4, 1), dtype=float32, numpy=\n",
       "array([[[[ 1.],\n",
       "         [ 2.],\n",
       "         [ 3.],\n",
       "         [ 4.]],\n",
       "\n",
       "        [[ 5.],\n",
       "         [ 6.],\n",
       "         [ 7.],\n",
       "         [ 8.]],\n",
       "\n",
       "        [[ 9.],\n",
       "         [10.],\n",
       "         [11.],\n",
       "         [12.]]]], dtype=float32)>"
      ]
     },
     "execution_count": 16,
     "metadata": {},
     "output_type": "execute_result"
    }
   ],
   "source": [
    "x = tf.reshape(x, [1, 3, 4, 1])\n",
    "x"
   ]
  },
  {
   "cell_type": "markdown",
   "id": "75e9ecd8",
   "metadata": {},
   "source": [
    "### padding='valid'"
   ]
  },
  {
   "cell_type": "code",
   "execution_count": 18,
   "id": "ec4cc4c4",
   "metadata": {},
   "outputs": [
    {
     "data": {
      "text/plain": [
       "<tf.Tensor: shape=(1, 1, 2, 1), dtype=float32, numpy=\n",
       "array([[[[6.],\n",
       "         [8.]]]], dtype=float32)>"
      ]
     },
     "execution_count": 18,
     "metadata": {},
     "output_type": "execute_result"
    }
   ],
   "source": [
    "max_pool_2d = tf.keras.layers.MaxPooling2D(pool_size=(2, 2),\n",
    "   strides=(2, 2), padding='valid') #VALID means \"no padding\"\n",
    "max_pool_2d(x)"
   ]
  },
  {
   "cell_type": "markdown",
   "id": "433bbd81",
   "metadata": {},
   "source": [
    "### padding='same'"
   ]
  },
  {
   "cell_type": "code",
   "execution_count": null,
   "id": "bfb12aa7",
   "metadata": {},
   "outputs": [],
   "source": [
    "max_pool_2d = tf.keras.layers.MaxPooling2D(pool_size=(2, 2),\n",
    "   strides=(2, 2), padding='same') #SAME\n",
    "max_pool_2d(x)"
   ]
  },
  {
   "cell_type": "markdown",
   "id": "e3156b8d",
   "metadata": {},
   "source": [
    "# #3: Usage example"
   ]
  },
  {
   "cell_type": "code",
   "execution_count": 19,
   "id": "111605ac",
   "metadata": {},
   "outputs": [
    {
     "data": {
      "text/plain": [
       "<tf.Tensor: shape=(1, 4, 4, 1), dtype=float32, numpy=\n",
       "array([[[[1.],\n",
       "         [1.],\n",
       "         [2.],\n",
       "         [4.]],\n",
       "\n",
       "        [[2.],\n",
       "         [2.],\n",
       "         [3.],\n",
       "         [2.]],\n",
       "\n",
       "        [[4.],\n",
       "         [1.],\n",
       "         [1.],\n",
       "         [1.]],\n",
       "\n",
       "        [[2.],\n",
       "         [2.],\n",
       "         [1.],\n",
       "         [4.]]]], dtype=float32)>"
      ]
     },
     "execution_count": 19,
     "metadata": {},
     "output_type": "execute_result"
    }
   ],
   "source": [
    "input_image = tf.constant([[[[1.], [1.], [2.], [4.]],\n",
    "                           [[2.], [2.], [3.], [2.]],\n",
    "                           [[4.], [1.], [1.], [1.]],\n",
    "                           [[2.], [2.], [1.], [4.]]]])\n",
    "input_image"
   ]
  },
  {
   "cell_type": "code",
   "execution_count": 20,
   "id": "fd2e0ccc",
   "metadata": {},
   "outputs": [
    {
     "data": {
      "text/plain": [
       "<tf.Tensor: shape=(1, 2, 2, 1), dtype=int32, numpy=\n",
       "array([[[[1],\n",
       "         [0]],\n",
       "\n",
       "        [[0],\n",
       "         [1]]]])>"
      ]
     },
     "execution_count": 20,
     "metadata": {},
     "output_type": "execute_result"
    }
   ],
   "source": [
    "output = tf.constant([[[[1], [0]],\n",
    "                      [[0], [1]]]])\n",
    "output"
   ]
  },
  {
   "cell_type": "code",
   "execution_count": 24,
   "id": "1adf7f0d",
   "metadata": {},
   "outputs": [
    {
     "name": "stdout",
     "output_type": "stream",
     "text": [
      "Model: \"sequential_2\"\n",
      "_________________________________________________________________\n",
      " Layer (type)                Output Shape              Param #   \n",
      "=================================================================\n",
      " max_pooling2d_6 (MaxPooling  (None, 2, 2, 1)          0         \n",
      " 2D)                                                             \n",
      "                                                                 \n",
      "=================================================================\n",
      "Total params: 0\n",
      "Trainable params: 0\n",
      "Non-trainable params: 0\n",
      "_________________________________________________________________\n"
     ]
    }
   ],
   "source": [
    "model = tf.keras.models.Sequential()\n",
    "model.add(tf.keras.layers.MaxPooling2D(pool_size=(2, 2),\n",
    "   input_shape=(4, 4, 1)))\n",
    "model.compile('adam', 'mean_squared_error')\n",
    "model.summary()"
   ]
  },
  {
   "cell_type": "code",
   "execution_count": 25,
   "id": "6378a709",
   "metadata": {},
   "outputs": [
    {
     "name": "stdout",
     "output_type": "stream",
     "text": [
      "1/1 [==============================] - 0s 33ms/step\n"
     ]
    },
    {
     "data": {
      "text/plain": [
       "array([[[[2.],\n",
       "         [4.]],\n",
       "\n",
       "        [[4.],\n",
       "         [4.]]]], dtype=float32)"
      ]
     },
     "execution_count": 25,
     "metadata": {},
     "output_type": "execute_result"
    }
   ],
   "source": [
    "model.predict(input_image, steps=1)"
   ]
  }
 ],
 "metadata": {
  "kernelspec": {
   "display_name": "Python 3 (ipykernel)",
   "language": "python",
   "name": "python3"
  },
  "language_info": {
   "codemirror_mode": {
    "name": "ipython",
    "version": 3
   },
   "file_extension": ".py",
   "mimetype": "text/x-python",
   "name": "python",
   "nbconvert_exporter": "python",
   "pygments_lexer": "ipython3",
   "version": "3.7.13"
  }
 },
 "nbformat": 4,
 "nbformat_minor": 5
}
