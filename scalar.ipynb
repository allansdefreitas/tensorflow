{
 "cells": [
  {
   "cell_type": "code",
   "execution_count": 1,
   "metadata": {},
   "outputs": [],
   "source": [
    "import tensorflow as tf"
   ]
  },
  {
   "cell_type": "code",
   "execution_count": 10,
   "metadata": {},
   "outputs": [],
   "source": [
    "entry = tf.constant(([-1.0,7.0,5.0]), name=\"entry\") #tem que pôr casas decimais no fim dos valores\n",
    "weight = tf.constant(([0.8,0.1,0.0]), name=\"weight\")\n",
    "multiplication = tf.multiply(entry, weight)\n",
    "summation = tf.reduce_sum(multiplication)"
   ]
  },
  {
   "cell_type": "code",
   "execution_count": 12,
   "metadata": {},
   "outputs": [
    {
     "name": "stdout",
     "output_type": "stream",
     "text": [
      "[-1.  7.  5.]\n",
      "\n",
      "\n",
      "[0.8 0.1 0. ]\n",
      "\n",
      "\n",
      "[-0.8  0.7  0. ]\n",
      "\n",
      "Summation:\n",
      "-0.100000024\n"
     ]
    }
   ],
   "source": [
    "with tf.Session() as ses:\n",
    "    print(ses.run(entry))\n",
    "    print(\"\\n\")\n",
    "    print(ses.run(weight))\n",
    "    print(\"\\n\")\n",
    "    print(ses.run(multiplication))\n",
    "    print(\"\\nSummation:\")\n",
    "    print(ses.run(summation))"
   ]
  },
  {
   "cell_type": "code",
   "execution_count": null,
   "metadata": {},
   "outputs": [],
   "source": []
  },
  {
   "cell_type": "code",
   "execution_count": null,
   "metadata": {},
   "outputs": [],
   "source": []
  },
  {
   "cell_type": "code",
   "execution_count": null,
   "metadata": {},
   "outputs": [],
   "source": []
  }
 ],
 "metadata": {
  "kernelspec": {
   "display_name": "Python 3",
   "language": "python",
   "name": "python3"
  },
  "language_info": {
   "codemirror_mode": {
    "name": "ipython",
    "version": 3
   },
   "file_extension": ".py",
   "mimetype": "text/x-python",
   "name": "python",
   "nbconvert_exporter": "python",
   "pygments_lexer": "ipython3",
   "version": "3.7.3"
  }
 },
 "nbformat": 4,
 "nbformat_minor": 2
}
