{
 "cells": [
  {
   "cell_type": "markdown",
   "metadata": {
    "colab_type": "text",
    "id": "uJ9H8w73J5T-"
   },
   "source": [
    "TFRecord Format:\n",
    "===\n",
    "In this competition we're classifying 104 types of flowers based on their images drawn from five different public datasets. This competition is different in that images are provided in TFRecord format.\n",
    "\n",
    "To make things easier, it will be better if we have basic understanding of dataset and how to experiment with different methods faster even on Google Colab without limiting yourself."
   ]
  },
  {
   "cell_type": "markdown",
   "metadata": {
    "colab_type": "text",
    "id": "fOwJ0V_9FnBB"
   },
   "source": [
    "# Overview\n",
    "This notebook describes all the different elements of TFRecord format. Obviously, to cover everything, it has to be fairly long. I have only covered the basics on using TFRecord on image data. I will be updating it in few weeks and I encourage everyone to read Tensorflow core tutorials as it has covered all the concpets thoroughly."
   ]
  },
  {
   "cell_type": "markdown",
   "metadata": {
    "_uuid": "7afad70768ff847794be2ab8312d7fa04ca1c571",
    "colab_type": "text",
    "id": "0-uqg9HJ10uY"
   },
   "source": [
    "# What is TFRecord?\n",
    "> As per Tensorflow's documentation, \" ... approach is to convert whatever data you have into a supported format. This approach makes it easier to mix and match data sets and network architectures. The recommended format for TensorFlow is a TFRecords file containing tf.train.Example protocol buffers (which contain Features as a field).\"\n",
    "\n",
    "In Layman's terms, The TFRecord format is a simple format for storing a sequence of binary records.\n",
    "\n",
    "So, why we even need a container for our image dataset we can simply extract our image into folder, read them into ram and then run, any image classification techniques. Well, There are plenty of reasons:\n",
    "1.  Suppose you are experimenting with different image classification algorithms it is beneficial to do basic preprocessing and convert data into format that is faster to load. TFRecord makes that job easier. You can preprocess data and then convert it into TFRecord file. It will save your time and all you need to do read TFRecord file without any preprocessing and then, you can test your ideas on that dataset much faster without going to same step every time.\n",
    "e.g., for pandas it is hdf5 files and for numpy it is npy, similarly for tensorflow, it is tfrecord files.\n",
    "\n",
    "2. To dynamically shuffle at random places and also change the ratio of train:test:validate from the whole dataset. When you are working with an image dataset, what is the first thing you do? Split into Train, Test, Vaildate, sets, and then shuffle to not have any biased data distribution. In case of TFRecord, everything is in a single file and we can use that file to shuffle our dataset.\n"
   ]
  },
  {
   "cell_type": "markdown",
   "metadata": {
    "colab_type": "text",
    "id": "WkRreBf1eDVc"
   },
   "source": [
    "## Setup"
   ]
  },
  {
   "cell_type": "code",
   "execution_count": 1,
   "metadata": {
    "colab": {
     "base_uri": "https://localhost:8080/",
     "height": 102
    },
    "colab_type": "code",
    "execution": {
     "iopub.execute_input": "2023-11-16T14:40:45.260127Z",
     "iopub.status.busy": "2023-11-16T14:40:45.259459Z",
     "iopub.status.idle": "2023-11-16T14:40:45.264544Z",
     "shell.execute_reply": "2023-11-16T14:40:45.263634Z",
     "shell.execute_reply.started": "2023-11-16T14:40:45.260054Z"
    },
    "id": "hP_rUdRS3l0n",
    "outputId": "91cb20a5-7687-4bd8-b966-71ae05b026ec"
   },
   "outputs": [],
   "source": [
    "#%tensorflow_version 2.x #only exists in Colab."
   ]
  },
  {
   "cell_type": "code",
   "execution_count": 2,
   "metadata": {
    "colab": {
     "base_uri": "https://localhost:8080/",
     "height": 34
    },
    "colab_type": "code",
    "execution": {
     "iopub.execute_input": "2023-11-16T14:40:45.266698Z",
     "iopub.status.busy": "2023-11-16T14:40:45.266152Z",
     "iopub.status.idle": "2023-11-16T14:40:52.532652Z",
     "shell.execute_reply": "2023-11-16T14:40:52.531378Z",
     "shell.execute_reply.started": "2023-11-16T14:40:45.266652Z"
    },
    "id": "dYN3fjnX3rMI",
    "outputId": "458f1822-3cf5-4bba-ef53-5798f55de4d6"
   },
   "outputs": [
    {
     "name": "stdout",
     "output_type": "stream",
     "text": [
      "Tensorflow version 2.9.1\n"
     ]
    }
   ],
   "source": [
    "# import libraries\n",
    "import math, re, os\n",
    "import tensorflow as tf\n",
    "import numpy as np\n",
    "from matplotlib import pyplot as plt\n",
    "import IPython.display as display\n",
    "#from kaggle_datasets import KaggleDatasets\n",
    "from sklearn.metrics import f1_score, precision_score, recall_score, confusion_matrix\n",
    "print(\"Tensorflow version \" + tf.__version__)\n",
    "AUTO = tf.data.experimental.AUTOTUNE"
   ]
  },
  {
   "cell_type": "markdown",
   "metadata": {
    "colab_type": "text",
    "id": "O-aBSiaPmFVK"
   },
   "source": [
    "Writing and Reading a TFRecord file\n",
    "===\n",
    "In practice, There are different types of input data but the process of creating a TFRecord file will be the same for each type of dataset:\n",
    "\n",
    "1. Within each observation, each value needs to be converted to a `tf.train.Feature` containing one of the 3 compatible types, BytesList, FloaList,and Int64List. These are not python data types but tf.train.Feature types, that are used to store python data in compatible formats for TensorFlow operations.\n",
    "\n",
    "1. You create a map (dictionary) from the feature name string to the encoded feature value produced in #1.\n",
    "\n",
    "1. The map produced in step 2 is converted to a [`Features` message](https://github.com/tensorflow/tensorflow/blob/master/tensorflow/core/example/feature.proto#L85).\n",
    "\n",
    "1. Write the `tf.Example` observations to the TFRecord file"
   ]
  },
  {
   "cell_type": "markdown",
   "metadata": {
    "colab_type": "text",
    "id": "v3swGzoPx5YF"
   },
   "source": [
    ">**Aknowledgement**  \n",
    "TensorFlow core team did a great job sharing tutorials on TFRecord.  \n",
    "https://www.tensorflow.org/tutorials/load_data/tfrecord  \n",
    "https://codelabs.developers.google.com/codelabs/keras-flowers-data"
   ]
  },
  {
   "cell_type": "code",
   "execution_count": 3,
   "metadata": {
    "colab": {
     "base_uri": "https://localhost:8080/",
     "height": 105
    },
    "colab_type": "code",
    "execution": {
     "iopub.execute_input": "2023-11-16T14:40:58.719545Z",
     "iopub.status.busy": "2023-11-16T14:40:58.718808Z",
     "iopub.status.idle": "2023-11-16T14:41:00.385668Z",
     "shell.execute_reply": "2023-11-16T14:41:00.384667Z",
     "shell.execute_reply.started": "2023-11-16T14:40:58.719479Z"
    },
    "id": "YZt4DXC41BSJ",
    "outputId": "fa2e3ef0-d8a8-4157-f59d-26de31289f05"
   },
   "outputs": [
    {
     "name": "stdout",
     "output_type": "stream",
     "text": [
      "Downloading data from https://storage.googleapis.com/download.tensorflow.org/example_images/320px-Felis_catus-cat_on_snow.jpg\n",
      "17858/17858 [==============================] - 0s 2us/step\n",
      "Downloading data from https://storage.googleapis.com/download.tensorflow.org/example_images/194px-New_East_River_Bridge_from_Brooklyn_det.4a09796u.jpg\n",
      "15477/15477 [==============================] - 0s 1us/step\n"
     ]
    }
   ],
   "source": [
    "# In this notebook, We have only considered image data so, two image files are used.\n",
    "cat_in_snow  = tf.keras.utils.get_file('320px-Felis_catus-cat_on_snow.jpg', 'https://storage.googleapis.com/download.tensorflow.org/example_images/320px-Felis_catus-cat_on_snow.jpg')\n",
    "williamsburg_bridge = tf.keras.utils.get_file('194px-New_East_River_Bridge_from_Brooklyn_det.4a09796u.jpg','https://storage.googleapis.com/download.tensorflow.org/example_images/194px-New_East_River_Bridge_from_Brooklyn_det.4a09796u.jpg')"
   ]
  },
  {
   "cell_type": "code",
   "execution_count": 4,
   "metadata": {
    "colab": {
     "base_uri": "https://localhost:8080/",
     "height": 247
    },
    "colab_type": "code",
    "execution": {
     "iopub.execute_input": "2023-11-16T14:41:27.626559Z",
     "iopub.status.busy": "2023-11-16T14:41:27.626053Z",
     "iopub.status.idle": "2023-11-16T14:41:27.637811Z",
     "shell.execute_reply": "2023-11-16T14:41:27.636836Z",
     "shell.execute_reply.started": "2023-11-16T14:41:27.626503Z"
    },
    "id": "y-RakwRD1BSS",
    "outputId": "ca4d2f81-8118-45b3-a37c-362dab40fcb9"
   },
   "outputs": [
    {
     "data": {
      "image/jpeg": "[encoded data removed]",
      "text/plain": [
       "<IPython.core.display.Image object>"
      ]
     },
     "metadata": {},
     "output_type": "display_data"
    },
    {
     "data": {
      "text/html": [
       "Image cc-by: <a \"href=https://commons.wikimedia.org/wiki/File:Felis_catus-cat_on_snow.jpg\">Von.grzanka</a>"
      ],
      "text/plain": [
       "<IPython.core.display.HTML object>"
      ]
     },
     "metadata": {},
     "output_type": "display_data"
    }
   ],
   "source": [
    "# checking the image file\n",
    "display.display(display.Image(filename=cat_in_snow))\n",
    "display.display(display.HTML('Image cc-by: <a \"href=https://commons.wikimedia.org/wiki/File:Felis_catus-cat_on_snow.jpg\">Von.grzanka</a>'))"
   ]
  },
  {
   "cell_type": "code",
   "execution_count": 5,
   "metadata": {
    "colab": {
     "base_uri": "https://localhost:8080/",
     "height": 273
    },
    "colab_type": "code",
    "execution": {
     "iopub.execute_input": "2023-11-16T14:41:35.679320Z",
     "iopub.status.busy": "2023-11-16T14:41:35.678836Z",
     "iopub.status.idle": "2023-11-16T14:41:35.688282Z",
     "shell.execute_reply": "2023-11-16T14:41:35.687365Z",
     "shell.execute_reply.started": "2023-11-16T14:41:35.679248Z"
    },
    "id": "3VB8sHLr1BSd",
    "outputId": "03abeb34-3973-4294-8614-b2f690a5cb47"
   },
   "outputs": [
    {
     "data": {
      "image/jpeg": "[encoded data removed]",
      "text/plain": [
       "<IPython.core.display.Image object>"
      ]
     },
     "metadata": {},
     "output_type": "display_data"
    },
    {
     "data": {
      "text/html": [
       "<a \"href=https://commons.wikimedia.org/wiki/File:New_East_River_Bridge_from_Brooklyn_det.4a09796u.jpg\">From Wikimedia</a>"
      ],
      "text/plain": [
       "<IPython.core.display.HTML object>"
      ]
     },
     "metadata": {},
     "output_type": "display_data"
    }
   ],
   "source": [
    "# checking the image file\n",
    "display.display(display.Image(filename=williamsburg_bridge))\n",
    "display.display(display.HTML('<a \"href=https://commons.wikimedia.org/wiki/File:New_East_River_Bridge_from_Brooklyn_det.4a09796u.jpg\">From Wikimedia</a>'))"
   ]
  },
  {
   "cell_type": "markdown",
   "metadata": {
    "colab_type": "text",
    "id": "tTG57Mk68azO"
   },
   "source": [
    "In order to convert python data type to a standard TensorFlow type tf.train.Feature, we will use the functions below. Each of these functions takes scalar input value and returns a tf.train.Feature"
   ]
  },
  {
   "cell_type": "code",
   "execution_count": 6,
   "metadata": {
    "colab": {},
    "colab_type": "code",
    "execution": {
     "iopub.execute_input": "2023-11-16T14:41:44.828936Z",
     "iopub.status.busy": "2023-11-16T14:41:44.828478Z",
     "iopub.status.idle": "2023-11-16T14:41:44.837439Z",
     "shell.execute_reply": "2023-11-16T14:41:44.835983Z",
     "shell.execute_reply.started": "2023-11-16T14:41:44.828890Z"
    },
    "id": "OyiZ-6Pg6fqa"
   },
   "outputs": [],
   "source": [
    "# The following functions can be used to convert a value to a type compatible\n",
    "# with tf.Example.\n",
    "\n",
    "def _bytes_feature(value):\n",
    "  \"\"\"Returns a bytes_list from a string / byte.\"\"\"\n",
    "  if isinstance(value, type(tf.constant(0))):\n",
    "    value = value.numpy() # BytesList won't unpack a string from an EagerTensor.\n",
    "  return tf.train.Feature(bytes_list=tf.train.BytesList(value=[value]))\n",
    "\n",
    "def _int64_feature(value):\n",
    "  \"\"\"Returns an int64_list from a bool / enum / int / uint.\"\"\"\n",
    "  return tf.train.Feature(int64_list=tf.train.Int64List(value=[value]))"
   ]
  },
  {
   "cell_type": "code",
   "execution_count": 18,
   "metadata": {},
   "outputs": [],
   "source": []
  },
  {
   "cell_type": "code",
   "execution_count": 7,
   "metadata": {
    "execution": {
     "iopub.execute_input": "2023-11-16T14:43:17.262826Z",
     "iopub.status.busy": "2023-11-16T14:43:17.262314Z",
     "iopub.status.idle": "2023-11-16T14:43:17.269715Z",
     "shell.execute_reply": "2023-11-16T14:43:17.268406Z",
     "shell.execute_reply.started": "2023-11-16T14:43:17.262756Z"
    }
   },
   "outputs": [
    {
     "data": {
      "text/plain": [
       "int64_list {\n",
       "  value: 10\n",
       "}"
      ]
     },
     "execution_count": 7,
     "metadata": {},
     "output_type": "execute_result"
    }
   ],
   "source": [
    "_int64_feature(10)"
   ]
  },
  {
   "cell_type": "code",
   "execution_count": 8,
   "metadata": {
    "colab": {},
    "colab_type": "code",
    "id": "TZUCLCyZ1BSi"
   },
   "outputs": [],
   "source": [
    "# create a dictionary to map classes to images, \n",
    "# this will be helpful when we use image classification algorithm on dataset\n",
    "image_labels = {\n",
    "    cat_in_snow : 0,\n",
    "    williamsburg_bridge : 1,\n",
    "}\n",
    "\n",
    "# Create a function to apply entire process to each element of dataset.\n",
    "# process the two images into 'tf.Example' messages.\n",
    "def image_example(image_string, label):\n",
    "  \"\"\"\n",
    "  Creates a tf.Example message ready to be written to a file.\n",
    "  \"\"\"\n",
    "  # Create a dictionary mapping the feature name to the tf.Example-compatible\n",
    "  # data type.\n",
    "  image_feature_description = {\n",
    "      \"image\": _bytes_feature(image_string),\n",
    "      \"class\": _int64_feature(label),\n",
    "      }\n",
    "  # Create a Features message using tf.train.Example.\n",
    "  return tf.train.Example(features=tf.train.Features(feature=image_feature_description))"
   ]
  },
  {
   "cell_type": "code",
   "execution_count": 41,
   "metadata": {
    "colab": {},
    "colab_type": "code",
    "id": "8KIogfTG6vHt"
   },
   "outputs": [
    {
     "name": "stdout",
     "output_type": "stream",
     "text": [
      "a\n",
      "a\n"
     ]
    }
   ],
   "source": [
    "# define a filename to store preprocessed image data:...\n",
    "record_file = 'images.tfrecords'\n",
    "\n",
    "# Write the `tf.Example` observations to the file.\n",
    "with tf.io.TFRecordWriter(record_file) as writer:\n",
    "    for filename, label in image_labels.items():\n",
    "        print('a')\n",
    "        #image_string type: bytes\n",
    "        image_string = open(filename, 'rb').read()\n",
    "        \n",
    "        # storing all the features in the tf.Example message.\n",
    "        tf_example = image_example(image_string, label)\n",
    "        # write the example messages to a file named images.tfrecords\n",
    "        writer.write(tf_example.SerializeToString())\n",
    "        \n",
    "        "
   ]
  },
  {
   "cell_type": "code",
   "execution_count": 37,
   "metadata": {},
   "outputs": [],
   "source": [
    "#allan\n",
    "filename = 'C:\\\\Users\\\\allan.freitas\\\\.keras\\\\datasets\\\\320px-Felis_catus-cat_on_snow.jpg'\n",
    "image_string = open(filename, 'rb').read()\n",
    "        \n",
    "# storing all the features in the tf.Example message.\n",
    "tf_example = image_example(image_string, label)\n",
    "#tf_example"
   ]
  },
  {
   "cell_type": "code",
   "execution_count": 65,
   "metadata": {
    "colab": {
     "base_uri": "https://localhost:8080/",
     "height": 34
    },
    "colab_type": "code",
    "id": "bQqjELp99IGn",
    "outputId": "4474eeda-36b5-4824-d313-46f730d43ae0"
   },
   "outputs": [
    {
     "name": "stderr",
     "output_type": "stream",
     "text": [
      "'du' não é reconhecido como um comando interno\n",
      "ou externo, um programa operável ou um arquivo em lotes.\n"
     ]
    }
   ],
   "source": [
    "# checking if file is written\n",
    "!du -sh {record_file}"
   ]
  },
  {
   "cell_type": "markdown",
   "metadata": {},
   "source": [
    "## Read TFRecord file"
   ]
  },
  {
   "cell_type": "code",
   "execution_count": 66,
   "metadata": {
    "colab": {},
    "colab_type": "code",
    "id": "CfdO1ufQ9PkS"
   },
   "outputs": [],
   "source": [
    "# to read TFRecord file use TFRecordDataset\n",
    "raw_image_dataset = tf.data.TFRecordDataset(record_file)\n",
    "\n",
    "# Create a dictionary describing the features.\n",
    "image_feature_description = {\n",
    "    \"image\": tf.io.FixedLenFeature([], tf.string), # tf.string means bytestring\n",
    "    \"class\": tf.io.FixedLenFeature([], tf.int64),  # shape [] means single element\n",
    "    }\n",
    "\n",
    "# create a function to apply image feature description to each observation\n",
    "def _parse_image_function(example_proto):\n",
    "  # parse the input tf.Example proto using the dictionary above.\n",
    "  return tf.io.parse_single_example(example_proto, image_feature_description)\n",
    "\n",
    "# use map to apply this operation to each element of dataset\n",
    "parsed_image_dataset = raw_image_dataset.map(_parse_image_function)"
   ]
  },
  {
   "cell_type": "code",
   "execution_count": 45,
   "metadata": {
    "colab": {
     "base_uri": "https://localhost:8080/",
     "height": 247
    },
    "colab_type": "code",
    "id": "-w3R8LVo91ry",
    "outputId": "3578ce87-ff2b-4cac-f5d1-9f97f51f2708"
   },
   "outputs": [
    {
     "data": {
      "image/jpeg": "[encoded data removed]",
      "text/plain": [
       "<IPython.core.display.Image object>"
      ]
     },
     "metadata": {},
     "output_type": "display_data"
    },
    {
     "name": "stdout",
     "output_type": "stream",
     "text": [
      "The label of image is 0\n"
     ]
    }
   ],
   "source": [
    "# Use the .take method to only pull one example from the dataset.\n",
    "for image_features in parsed_image_dataset.take(1):\n",
    "  image = image_features['image'].numpy()\n",
    "  display.display(display.Image(data=image))\n",
    "  classes = image_features['class'].numpy()\n",
    "  print('The label of image is', classes)"
   ]
  },
  {
   "cell_type": "markdown",
   "metadata": {
    "colab_type": "text",
    "id": "qL-zt-Dc0al2"
   },
   "source": [
    "Hence, The process of serializing data into TFRecord format will be: \n",
    "**Data -> FeatureSet (a dictionary of features)-> Example -> Serialized Example -> TFRecord.**\n",
    "\n",
    "and to read it back, the process is reversed.\n",
    "**TFRecord -> SerializedExample -> Example -> FeatureSet -> Data**"
   ]
  },
  {
   "cell_type": "markdown",
   "metadata": {
    "colab_type": "text",
    "id": "-IR_j-ntEzhF"
   },
   "source": [
    "### On Flower Classification with TPUs\n"
   ]
  },
  {
   "cell_type": "code",
   "execution_count": 57,
   "metadata": {
    "colab": {},
    "colab_type": "code",
    "id": "_xEvIGJMEmMw"
   },
   "outputs": [],
   "source": [
    "file = '00-192x192-798.tfrec'"
   ]
  },
  {
   "cell_type": "code",
   "execution_count": 58,
   "metadata": {
    "colab": {},
    "colab_type": "code",
    "id": "_GT99g9lECFQ"
   },
   "outputs": [],
   "source": [
    "# on \n",
    "# to read TFRecord file use TFRecordDataset\n",
    "raw_image_dataset = tf.data.TFRecordDataset(file)\n",
    "\n",
    "# Create a dictionary describing the features.\n",
    "image_feature_description = {\n",
    "    \"image\": tf.io.FixedLenFeature([], tf.string), # tf.string means bytestring\n",
    "    \"class\": tf.io.FixedLenFeature([], tf.int64),  # shape [] means single element\n",
    "    }\n",
    "\n",
    "# create a function to apply image feature description to each observation\n",
    "def _parse_image_function(example_proto):\n",
    "  # parse the input tf.Example proto using the dictionary above.\n",
    "  return tf.io.parse_single_example(example_proto, image_feature_description)\n",
    "\n",
    "# use map to apply this operation to each element of dataset\n",
    "parsed_image_dataset = raw_image_dataset.map(_parse_image_function)"
   ]
  },
  {
   "cell_type": "code",
   "execution_count": 59,
   "metadata": {
    "colab": {
     "base_uri": "https://localhost:8080/",
     "height": 226
    },
    "colab_type": "code",
    "id": "Bia7Vz9rEucI",
    "outputId": "b0196df4-d1b5-4e10-f67c-26ef681b06ce"
   },
   "outputs": [
    {
     "data": {
      "image/jpeg": "[encoded data removed]",
      "text/plain": [
       "<IPython.core.display.Image object>"
      ]
     },
     "metadata": {},
     "output_type": "display_data"
    },
    {
     "name": "stdout",
     "output_type": "stream",
     "text": [
      "The label of image is 57\n"
     ]
    }
   ],
   "source": [
    "# Use the .take method to only pull one example from the dataset.\n",
    "for image_features in parsed_image_dataset.take(1):\n",
    "    image = image_features['image'].numpy()\n",
    "    display.display(display.Image(data=image))\n",
    "    classes = image_features['class'].numpy()\n",
    "    print('The label of image is', classes)"
   ]
  },
  {
   "cell_type": "markdown",
   "metadata": {
    "colab_type": "text",
    "id": "QcjVVdXZ5gcL"
   },
   "source": [
    "Faster training on TPU:\n",
    "===\n",
    "Accoring to Google's team behind Colab's free TPU:\n",
    ">\"Artificial neural networks based on the AI applications used to train the TPUs are 15 and 30 times faster than CPUs and GPUs!\"\n",
    "\n",
    "So, how can we do that; As per my experimentation, when you use CPU and GPU static shape is not that important, but incase of XLA/TPU static shape and batch size makes a very big difference.\n",
    "\n",
    "Hence, if you use static input batch_size i.e., train the TPU model with static batch_size*8 (number of TPU cores). The epoch time reduced to 20%-50% as compared to training model on GPU. Since colab TPU has 8 TPU cores which operates as independent processing units."
   ]
  },
  {
   "cell_type": "markdown",
   "metadata": {
    "colab_type": "text",
    "id": "KOLIVTGEGZn1"
   },
   "source": [
    "References:\n",
    "===\n",
    "1. https://www.dlology.com/blog/how-to-train-keras-model-x20-times-faster-with-tpu-for-free/\n",
    "\n",
    "1. https://codelabs.developers.google.com/codelabs/keras-flowers-data/#4\n",
    "\n",
    "1. https://www.tensorflow.org/tutorials/load_data/tfrecord\n",
    "\n",
    "1. https://www.skcript.com/svr/why-every-tensorflow-developer-should-know-about-tfrecord/"
   ]
  },
  {
   "cell_type": "markdown",
   "metadata": {
    "colab_type": "text",
    "id": "tqN-lQ9lFuXW"
   },
   "source": [
    "Conclusion\n",
    "===\n",
    "This is just a first cut notebook on using tfrecord format. Also more rigorous experiment can be done and heuristics can be explored for faster preprocessing and training. I hope this helped you in understanding of using TensorFlow's TFRecords.\n",
    "\n",
    "Comments, suggestions, criticism are welcomed. Thanks\n",
    "\n",
    "### To be continued ................\n"
   ]
  }
 ],
 "metadata": {
  "colab": {
   "collapsed_sections": [],
   "name": "Understanding TFRecord format.ipynb",
   "provenance": []
  },
  "kaggle": {
   "accelerator": "none",
   "dataSources": [
    {
     "databundleVersionId": 968043,
     "sourceId": 18278,
     "sourceType": "competition"
    }
   ],
   "dockerImageVersionId": 29860,
   "isGpuEnabled": false,
   "isInternetEnabled": true,
   "language": "python",
   "sourceType": "notebook"
  },
  "kernelspec": {
   "display_name": "Python 3 (ipykernel)",
   "language": "python",
   "name": "python3"
  },
  "language_info": {
   "codemirror_mode": {
    "name": "ipython",
    "version": 3
   },
   "file_extension": ".py",
   "mimetype": "text/x-python",
   "name": "python",
   "nbconvert_exporter": "python",
   "pygments_lexer": "ipython3",
   "version": "3.7.13"
  }
 },
 "nbformat": 4,
 "nbformat_minor": 4
}
