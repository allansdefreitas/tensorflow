{
 "cells": [
  {
   "cell_type": "code",
   "execution_count": 87,
   "metadata": {},
   "outputs": [],
   "source": [
    "import tensorflow as tf\n",
    "import numpy as np"
   ]
  },
  {
   "cell_type": "code",
   "execution_count": 117,
   "metadata": {},
   "outputs": [
    {
     "data": {
      "text/plain": [
       "array([[0, 0],\n",
       "       [0, 1],\n",
       "       [1, 0],\n",
       "       [1, 1]])"
      ]
     },
     "execution_count": 117,
     "metadata": {},
     "output_type": "execute_result"
    }
   ],
   "source": [
    "X = np.array([[0, 0], [0,1], [1,0], [1,1]])\n",
    "X"
   ]
  },
  {
   "cell_type": "code",
   "execution_count": 118,
   "metadata": {},
   "outputs": [
    {
     "data": {
      "text/plain": [
       "array([[1],\n",
       "       [0],\n",
       "       [0],\n",
       "       [1]])"
      ]
     },
     "execution_count": 118,
     "metadata": {},
     "output_type": "execute_result"
    }
   ],
   "source": [
    "y = np.array([[1], [0], [0], [1]])\n",
    "y"
   ]
  },
  {
   "cell_type": "code",
   "execution_count": 119,
   "metadata": {},
   "outputs": [],
   "source": [
    "input_layer_neurons = 2\n",
    "hidden_layer_neurons = 3\n",
    "exit_layer_neurons = 1"
   ]
  },
  {
   "cell_type": "code",
   "execution_count": 120,
   "metadata": {},
   "outputs": [],
   "source": [
    "W = {'hidden': tf.Variable(tf.random_normal([input_layer_neurons, hidden_layer_neurons]), name = 'w_oculta'), \n",
    "     'exit': tf.Variable(tf.random_normal([hidden_layer_neurons, exit_layer_neurons]), name = 'w_saida')}"
   ]
  },
  {
   "cell_type": "code",
   "execution_count": 121,
   "metadata": {},
   "outputs": [
    {
     "data": {
      "text/plain": [
       "dict"
      ]
     },
     "execution_count": 121,
     "metadata": {},
     "output_type": "execute_result"
    }
   ],
   "source": [
    "type(W)"
   ]
  },
  {
   "cell_type": "code",
   "execution_count": 122,
   "metadata": {},
   "outputs": [
    {
     "data": {
      "text/plain": [
       "tensorflow.python.ops.variables.RefVariable"
      ]
     },
     "execution_count": 122,
     "metadata": {},
     "output_type": "execute_result"
    }
   ],
   "source": [
    "type(W['hidden'])"
   ]
  },
  {
   "cell_type": "code",
   "execution_count": 123,
   "metadata": {},
   "outputs": [
    {
     "data": {
      "text/plain": [
       "<tf.Variable 'w_oculta_5:0' shape=(2, 3) dtype=float32_ref>"
      ]
     },
     "execution_count": 123,
     "metadata": {},
     "output_type": "execute_result"
    }
   ],
   "source": [
    "W['hidden']"
   ]
  },
  {
   "cell_type": "code",
   "execution_count": 124,
   "metadata": {},
   "outputs": [
    {
     "data": {
      "text/plain": [
       "<tf.Variable 'w_saida_5:0' shape=(3, 1) dtype=float32_ref>"
      ]
     },
     "execution_count": 124,
     "metadata": {},
     "output_type": "execute_result"
    }
   ],
   "source": [
    "W['exit']"
   ]
  },
  {
   "cell_type": "code",
   "execution_count": 125,
   "metadata": {},
   "outputs": [
    {
     "data": {
      "text/plain": [
       "array([ 0.13581288, -0.58165943,  0.02114194, -0.26270951,  1.97096463,\n",
       "        1.50038412,  0.06570036,  0.53364889, -2.38548316, -0.43575178,\n",
       "        1.06593548,  0.26392207,  0.03059211,  0.93977839,  0.07787603,\n",
       "       -0.93943386, -0.98341687,  1.60547298,  0.85210134, -1.03411861,\n",
       "        0.05812973, -0.50008778, -1.2291899 , -0.04975547,  1.9454703 ,\n",
       "       -1.17529013,  0.98723306, -0.3551772 , -1.7979766 ,  0.37298149,\n",
       "       -0.05526958, -0.85139376,  0.68691925, -0.85151066,  0.5388537 ,\n",
       "       -1.11101296,  0.74220235, -0.30145718, -0.72409202,  1.08778094,\n",
       "       -0.23873478, -1.50395581, -1.31690268, -0.39895592,  0.04159944,\n",
       "       -0.65176863,  1.66190179,  0.994207  ,  0.04461212,  2.09321551,\n",
       "       -0.66343838, -0.04251831, -0.15403383,  2.55319052,  0.07205401,\n",
       "        0.48878072, -0.74468466, -0.6334833 ,  0.41521651,  1.74288815,\n",
       "        0.13557255,  2.73397867, -0.79124652, -1.25308146,  0.10156191,\n",
       "       -1.81371279, -2.73412676, -1.70339459,  1.40786142, -0.1621844 ,\n",
       "        0.12381229, -0.29392355,  0.83208791,  1.69365917, -0.61159558,\n",
       "       -1.0448088 , -1.37837112,  2.82897919,  0.37607956,  0.7433853 ,\n",
       "        1.45206093,  0.35308884,  0.90443793,  0.42926811,  2.07345594,\n",
       "        0.9506642 , -0.19379516, -0.53388709,  1.41974329,  3.06634289,\n",
       "        0.03004656,  0.25110056, -0.2237735 , -0.18486571, -0.11048766,\n",
       "        0.78685955,  0.006362  , -0.00400936, -0.67765606, -0.1563947 ,\n",
       "       -1.77663528, -1.72855821, -0.7971909 ,  0.37229716, -0.99180835,\n",
       "        0.01461223,  0.06165683,  1.26062364, -0.75947051, -0.25447666,\n",
       "       -0.50046721,  0.24939285, -1.18662275, -0.44117545,  1.65666899,\n",
       "       -0.10244057, -0.53211177, -1.11831381,  0.38228452,  0.46471628,\n",
       "        0.25910022,  0.35922874, -0.68528253, -0.24620646,  0.9398377 ,\n",
       "       -1.09893374, -0.21769645, -0.04578154, -0.20812572,  0.50470754,\n",
       "        0.35914697,  0.4333626 , -0.33815717,  0.39570329, -0.43178528,\n",
       "        0.4441044 ,  0.94635785, -0.98821286, -1.7119833 , -0.67467124,\n",
       "       -0.08509787,  0.33553369,  0.56204227,  1.4204189 ,  0.02443374,\n",
       "       -1.31893947, -0.85069864,  1.77502481,  1.45859857, -0.11550751,\n",
       "        0.33162197,  0.22720895,  1.67621924, -1.13972339, -0.75850386,\n",
       "        0.5829148 , -0.45322168,  1.27283183,  1.30077091,  0.61379254,\n",
       "       -0.83404226,  0.20814901,  0.17076527,  1.53257835, -0.36838298,\n",
       "        0.54355683,  0.67736258,  1.27402787, -1.08178373,  0.45908425,\n",
       "        0.36120064, -0.54133335, -1.24423804, -0.60734915, -0.33175539,\n",
       "       -0.02382834, -0.38844762,  1.77757335,  0.14061142, -1.30120973,\n",
       "       -1.05681843, -0.80088782,  0.88536982,  0.48883765, -1.59714587,\n",
       "        0.69642288,  1.13983426,  0.39396126, -0.21066466,  0.18036705,\n",
       "        1.4205461 , -0.82385304, -0.02465149,  1.13393068,  1.79580441,\n",
       "        1.6120965 ,  0.80453233,  0.75167978,  1.70525214,  0.98311544,\n",
       "        1.17011467,  0.12503837,  0.29341129, -1.8663789 ,  0.96659935,\n",
       "        0.7815855 , -1.72584809, -0.41792255,  0.3897459 ,  0.14871954,\n",
       "        1.05022848, -1.40863089, -0.56087659,  1.48589883,  0.55152313,\n",
       "        0.3654078 ,  1.14199024,  1.99785162,  2.1481863 , -1.09250008,\n",
       "       -0.65449211,  1.82322921, -0.40768411, -0.80690161,  0.63019772,\n",
       "       -1.44053446,  0.10857641, -0.53865782,  0.57330703,  0.90921443,\n",
       "       -1.01274154, -1.30516798,  0.60831944,  1.5475764 , -0.54455399,\n",
       "        0.28380776,  1.72303236,  0.10457579, -0.40661909,  0.34139431,\n",
       "       -1.18279763,  0.16927585, -0.2702976 ,  1.00037667, -0.26451679,\n",
       "        0.25601691,  0.66245791, -0.27847542,  0.49420398, -1.26102359,\n",
       "        1.40788316, -0.55118469, -0.2971617 , -0.73322836,  0.46460668,\n",
       "       -0.52986501,  0.78312581, -0.44529131,  0.00486079,  2.444797  ,\n",
       "        0.10242256,  2.37840132, -2.68610191, -0.56965806,  0.69034099,\n",
       "       -0.51656081,  1.56671489,  0.84439275, -0.83152052, -0.9634847 ,\n",
       "        0.73597814,  0.0406849 ,  0.09752115,  0.87197529,  0.20441199,\n",
       "       -0.03495984, -0.68691242,  1.2349051 , -0.5604475 , -0.14387076,\n",
       "        0.1759063 , -1.41302983,  0.24649687,  0.64247998, -1.07100933,\n",
       "        0.050231  ,  0.59312582,  0.36807283, -1.21166151, -2.96748788,\n",
       "       -0.89181053,  0.6703998 , -0.27169699, -0.02125146,  0.20811481,\n",
       "       -0.48385686, -0.30623131, -0.68610026, -0.32746489, -2.03371507,\n",
       "       -1.44527617, -0.93265398, -0.58803367, -1.17737914,  0.05033329,\n",
       "        2.45753337,  0.30613458, -0.82504424, -0.18941978,  1.32223248,\n",
       "       -1.09590179, -1.56677355,  0.12558026, -0.69815799, -0.50895318,\n",
       "       -0.99058618,  0.28595604,  0.5056536 ,  0.57011401, -2.10319059,\n",
       "        1.18686849, -1.39092726, -0.42260014,  0.2874856 ,  0.36217378,\n",
       "       -1.34946396,  0.05269681, -0.34267664,  0.73641848, -1.15659059,\n",
       "        1.55780612,  0.5576362 , -1.73580856, -0.52181087,  0.28019343,\n",
       "        0.29883132, -0.06446221,  1.09602229,  1.85852073, -2.05711938,\n",
       "       -0.37686382, -1.74908011,  0.13430393, -0.32997334,  0.41800109,\n",
       "        1.60485612, -0.67556932,  0.23171405,  0.3229911 , -2.22705657,\n",
       "        0.05737823,  1.26215881,  1.40164262,  0.52818064, -0.43512261,\n",
       "        0.29599985,  0.80733668,  0.72967965, -1.15215537,  0.82237271,\n",
       "       -0.69817883,  0.35499664,  0.51262219,  0.33605347,  0.31258428,\n",
       "       -1.00831202,  0.83919964, -0.7864566 , -0.30292747, -1.22249589,\n",
       "        3.4066935 , -1.07067945, -1.98961306, -1.42310681,  0.64747004,\n",
       "       -0.68361312,  2.06352466, -0.19844018, -0.23709713, -1.22684389,\n",
       "        0.03020854, -0.40126233,  0.4560916 , -0.63850177,  0.2413179 ,\n",
       "       -0.62817721, -0.52738293, -1.41316976, -1.67325232,  1.00009964,\n",
       "       -0.66015342,  0.1651098 , -0.58136851, -0.31934972,  1.26399699,\n",
       "        2.31083018,  0.16215752, -1.00463071, -1.29701248, -1.97444983,\n",
       "       -0.23277727,  1.29531357,  0.90617499,  0.01587745,  0.65472452,\n",
       "        0.41934997,  0.63799077,  0.41577546, -0.28297926, -0.26062097,\n",
       "       -0.75196187,  0.74293747, -0.29672474, -0.01241402, -2.46989137,\n",
       "       -0.29186147, -0.45840803,  0.5632088 , -1.40101685, -1.45585597,\n",
       "       -2.03556814, -1.32432746,  0.14833233,  1.59186823,  0.55905842,\n",
       "       -1.10310932,  1.25068662, -0.8862443 , -0.10223953, -0.0585537 ,\n",
       "       -1.04661504, -0.19932767, -0.06828789, -0.48878676,  1.29196454,\n",
       "       -0.28509608,  1.60729846, -0.73987966, -0.81948987, -0.98059597,\n",
       "        0.43193614, -1.35724751,  1.65497629,  1.94520462,  2.15218728,\n",
       "        0.87390751, -0.58819951, -0.52090315, -0.41639215, -0.48437462,\n",
       "       -0.36888569, -1.39519579,  0.79089747,  0.70269955, -1.77555367,\n",
       "       -0.47775956,  0.98518446,  0.71348933,  0.32964865,  1.2522398 ,\n",
       "       -1.05823659, -0.06104221, -0.77937757,  1.00130127, -0.72188863,\n",
       "       -1.31765009,  2.0479315 ,  0.740855  , -2.01960758,  1.16472861,\n",
       "       -0.24422164,  0.97887407, -0.64860158, -1.92293571,  0.35364364,\n",
       "       -0.27290321, -0.17765899, -1.10397659,  0.19258837, -0.76688069,\n",
       "        0.90829037, -0.14851784,  1.80731522,  2.22639665,  0.31610352,\n",
       "       -0.52814333, -2.61014266,  0.43383941,  0.44387142,  0.05838342,\n",
       "        0.72281742,  0.12963443,  0.73015085, -1.48047139, -1.40810582,\n",
       "       -0.49841339, -0.26430158,  1.40790902,  0.49254459,  0.36002708])"
      ]
     },
     "execution_count": 125,
     "metadata": {},
     "output_type": "execute_result"
    }
   ],
   "source": [
    "distribution = np.random.normal(size=500)\n",
    "distribution"
   ]
  },
  {
   "cell_type": "code",
   "execution_count": 126,
   "metadata": {},
   "outputs": [
    {
     "data": {
      "text/plain": [
       "<matplotlib.axes._subplots.AxesSubplot at 0x1cfae7b62b0>"
      ]
     },
     "execution_count": 126,
     "metadata": {},
     "output_type": "execute_result"
    },
    {
     "data": {
      "image/png": "[encoded data removed]",
      "text/plain": [
       "<Figure size 432x288 with 1 Axes>"
      ]
     },
     "metadata": {
      "needs_background": "light"
     },
     "output_type": "display_data"
    }
   ],
   "source": [
    "import seaborn as sns\n",
    "sns.distplot(distribution)"
   ]
  },
  {
   "cell_type": "code",
   "execution_count": 127,
   "metadata": {},
   "outputs": [],
   "source": [
    "bias = {'hidden': tf.Variable(tf.random_normal([hidden_layer_neurons]), name='hidden_bias'),\n",
    "        'exit': tf.Variable(tf.random_normal([exit_layer_neurons]), name='exit_bias')}"
   ]
  },
  {
   "cell_type": "code",
   "execution_count": 128,
   "metadata": {},
   "outputs": [],
   "source": [
    "xph = tf.placeholder(tf.float32, [4, input_layer_neurons], name = 'xph')\n",
    "yph = tf.placeholder(tf.float32, [4, exit_layer_neurons], name = 'yph')"
   ]
  },
  {
   "cell_type": "code",
   "execution_count": 130,
   "metadata": {},
   "outputs": [],
   "source": [
    "hidden_layer = tf.add(tf.matmul(xph, W['hidden']), bias['hidden'])\n",
    "hidden_layer_activation = tf.sigmoid(hidden_layer)\n",
    "exit_layer = tf.add(tf.matmul(hidden_layer_activation, W['exit']), bias['exit'])\n",
    "exit_layer_activation = tf.sigmoid(exit_layer)"
   ]
  },
  {
   "cell_type": "code",
   "execution_count": 133,
   "metadata": {},
   "outputs": [],
   "source": [
    "error = tf.losses.mean_squared_error(yph, exit_layer_activation)"
   ]
  },
  {
   "cell_type": "code",
   "execution_count": 134,
   "metadata": {},
   "outputs": [],
   "source": [
    "optimizer = tf.train.GradientDescentOptimizer(learning_rate = 0.3).minimize(error)"
   ]
  },
  {
   "cell_type": "code",
   "execution_count": 135,
   "metadata": {},
   "outputs": [],
   "source": [
    "init = tf.global_variables_initializer()"
   ]
  },
  {
   "cell_type": "code",
   "execution_count": 149,
   "metadata": {},
   "outputs": [
    {
     "name": "stdout",
     "output_type": "stream",
     "text": [
      "0.11485172063112259\n",
      "0.05942189693450928\n",
      "0.055017583072185516\n",
      "0.04762538522481918\n",
      "0.03752211481332779\n",
      "0.026456193998456\n",
      "0.01727970317006111\n",
      "0.011302053928375244\n",
      "0.007764871697872877\n",
      "0.005649571772664785\n",
      "0.004320361651480198\n",
      "0.003438185201957822\n",
      "0.0028232510667294264\n",
      "0.0023764558136463165\n",
      "0.0020404518581926823\n",
      "0.0017804137896746397\n",
      "0.001574281370267272\n",
      "0.001407537260092795\n",
      "0.0012703093234449625\n",
      "0.0011556840036064386\n",
      "0.0010586967691779137\n",
      "0.0009757085936143994\n",
      "0.0009039908181875944\n",
      "0.0008414674666710198\n",
      "0.0007865317165851593\n",
      "0.000737920287065208\n",
      "0.0006946370704099536\n",
      "0.0006558754830621183\n",
      "0.0006209799321368337\n",
      "0.0005894172936677933\n",
      "0.000560743035748601\n",
      "0.0005345882382243872\n",
      "0.0005106464959681034\n",
      "0.000488651916384697\n",
      "0.00046838418347761035\n",
      "0.0004496511828619987\n",
      "0.0004322904860600829\n",
      "0.0004161591059528291\n",
      "0.00040113471914082766\n",
      "0.00038710894295945764\n",
      "0.0003739884705282748\n",
      "0.00036169018130749464\n",
      "0.0003501395112834871\n",
      "0.0003392738872207701\n",
      "0.00032903498504310846\n",
      "0.0003193692537024617\n",
      "0.0003102325717918575\n",
      "0.0003015840775333345\n",
      "0.0002933850628323853\n",
      "0.00028560328064486384\n"
     ]
    }
   ],
   "source": [
    "with tf.Session() as sess:\n",
    "    sess.run(init)\n",
    "    #print(sess.run(W['oculta']))\n",
    "    #print(sess.run(W['saida']))\n",
    "    #print(sess.run(bias['hidden']))\n",
    "    #print(sess.run(bias['exit']))\n",
    "    #print(sess.run(hidden_layer, feed_dict= {xph: X}))\n",
    "    #print('\\n')\n",
    "    #print(sess.run(hidden_layer_activation, feed_dict = {xph: X}))\n",
    "    #print('\\n')\n",
    "    #print(sess.run(exit_layer_activation, feed_dict = {xph: X}))\n",
    "    for epochs in range(10000):\n",
    "        mean_error = 0\n",
    "        _, cost = sess.run([optimizer, error], feed_dict = {xph: X, yph: y})\n",
    "        if (epochs % 200 == 0):\n",
    "            #print(cost)\n",
    "            mean_error += cost / 4\n",
    "            print(mean_error)\n",
    "    final_W, final_bias = sess.run([W, bias])"
   ]
  },
  {
   "cell_type": "code",
   "execution_count": 150,
   "metadata": {},
   "outputs": [
    {
     "data": {
      "text/plain": [
       "{'hidden': array([[ 4.4720697, -6.029655 , -2.8111088],\n",
       "        [-3.2730153, -4.94407  , -4.768001 ]], dtype=float32),\n",
       " 'exit': array([[ 4.369104],\n",
       "        [ 8.488173],\n",
       "        [-8.129021]], dtype=float32)}"
      ]
     },
     "execution_count": 150,
     "metadata": {},
     "output_type": "execute_result"
    }
   ],
   "source": [
    "final_W"
   ]
  },
  {
   "cell_type": "code",
   "execution_count": 151,
   "metadata": {},
   "outputs": [
    {
     "data": {
      "text/plain": [
       "{'hidden': array([2.263262 , 2.2219012, 5.511785 ], dtype=float32),\n",
       " 'exit': array([-0.05965011], dtype=float32)}"
      ]
     },
     "execution_count": 151,
     "metadata": {},
     "output_type": "execute_result"
    }
   ],
   "source": [
    "final_bias"
   ]
  },
  {
   "cell_type": "code",
   "execution_count": 152,
   "metadata": {},
   "outputs": [],
   "source": [
    "#TEST\n",
    "hidden_layer_test = tf.add(tf.matmul(xph, final_W['hidden']), bias['hidden'])\n",
    "hidden_layer_activation_test = tf.sigmoid(hidden_layer_test)\n",
    "exit_layer_test = tf.add(tf.matmul(hidden_layer_activation_test, final_W['exit']), bias['exit'])\n",
    "exit_layer_activation_test = tf.sigmoid(exit_layer_test)"
   ]
  },
  {
   "cell_type": "code",
   "execution_count": 155,
   "metadata": {},
   "outputs": [
    {
     "name": "stdout",
     "output_type": "stream",
     "text": [
      "[[0.87588423]\n",
      " [0.5727681 ]\n",
      " [0.9860629 ]\n",
      " [0.96130395]]\n"
     ]
    }
   ],
   "source": [
    "with tf.Session() as ses:\n",
    "    ses.run(init)\n",
    "    print(ses.run(exit_layer_activation_test, feed_dict = {xph: X}))"
   ]
  },
  {
   "cell_type": "code",
   "execution_count": null,
   "metadata": {},
   "outputs": [],
   "source": []
  },
  {
   "cell_type": "code",
   "execution_count": null,
   "metadata": {},
   "outputs": [],
   "source": []
  },
  {
   "cell_type": "code",
   "execution_count": null,
   "metadata": {},
   "outputs": [],
   "source": []
  },
  {
   "cell_type": "code",
   "execution_count": null,
   "metadata": {},
   "outputs": [],
   "source": []
  },
  {
   "cell_type": "code",
   "execution_count": null,
   "metadata": {},
   "outputs": [],
   "source": []
  },
  {
   "cell_type": "code",
   "execution_count": null,
   "metadata": {},
   "outputs": [],
   "source": []
  },
  {
   "cell_type": "code",
   "execution_count": null,
   "metadata": {},
   "outputs": [],
   "source": []
  }
 ],
 "metadata": {
  "kernelspec": {
   "display_name": "Python 3",
   "language": "python",
   "name": "python3"
  },
  "language_info": {
   "codemirror_mode": {
    "name": "ipython",
    "version": 3
   },
   "file_extension": ".py",
   "mimetype": "text/x-python",
   "name": "python",
   "nbconvert_exporter": "python",
   "pygments_lexer": "ipython3",
   "version": "3.7.3"
  }
 },
 "nbformat": 4,
 "nbformat_minor": 2
}
