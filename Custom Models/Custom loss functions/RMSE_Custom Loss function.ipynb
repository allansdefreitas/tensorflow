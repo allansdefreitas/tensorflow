{
 "cells": [
  {
   "cell_type": "markdown",
   "metadata": {},
   "source": [
    "# W2 Assignment: Creating a Custom Loss Function"
   ]
  },
  {
   "cell_type": "markdown",
   "metadata": {},
   "source": [
    "This short exercise will require you to write a simple linear regression neural network that is trained on two arrays: $xs$ (inputs) and $ys$ (labels), where the relationship between each corresponding element is $y=2x-1$.\n",
    "\n",
    "\n",
    "$xs = [-1.0,  0.0, 1.0, 2.0, 3.0, 4.0]$\n",
    "\n",
    "$ys = [-3.0, -1.0, 1.0, 3.0, 5.0, 7.0]$\n",
    "\n",
    "\n",
    "You will need to implement a custom loss function that returns the root mean square error (RMSE) of $y_{true} - y_{pred}$. Let's begin!"
   ]
  },
  {
   "cell_type": "code",
   "execution_count": 6,
   "metadata": {
    "colab": {},
    "colab_type": "code",
    "id": "0pajvrhrInPa"
   },
   "outputs": [],
   "source": [
    "import tensorflow as tf\n",
    "import numpy as np\n",
    "from tensorflow import keras\n",
    "from tensorflow.keras import backend as K\n",
    "\n",
    "#import utils"
   ]
  },
  {
   "cell_type": "code",
   "execution_count": 11,
   "metadata": {},
   "outputs": [],
   "source": [
    "# inputs\n",
    "xs = np.array([-1.0,  0.0, 1.0, 2.0, 3.0, 4.0], dtype=float)\n",
    "\n",
    "# labels. relationship with the inputs above is y=2x-1.\n",
    "ys = np.array([-3.0, -1.0, 1.0, 3.0, 5.0, 7.0], dtype=float)"
   ]
  },
  {
   "cell_type": "markdown",
   "metadata": {},
   "source": [
    "### Define the custom loss function\n",
    "Define the custom loss function below called `my_rmse()` that returns the RMSE between the target (`y_true`) and prediction (`y_pred`). \n",
    "\n",
    "You will return $\\sqrt{error}$, where $error$ = $mean((y_{true} - y_{pred})^2)$\n",
    "- error: the difference between the true label and predicted label.\n",
    "- sqr_error: the square of the error.\n",
    "- mean_sqr_error: the mean of the square of the error\n",
    "- sqrt_mean_sqr_error: the square root of hte mean of the square of the error (the root mean squared error).\n",
    "- Please use `K.mean`, `K.square`, and `K.sqrt`\n",
    "- The steps are broken down into separate lines of code for clarity.  Feel free to combine them, and just remember to return the root mean squared error."
   ]
  },
  {
   "cell_type": "code",
   "execution_count": 20,
   "metadata": {},
   "outputs": [],
   "source": [
    "from tensorflow.keras.losses import Loss\n",
    "\n",
    "class AllanRMSE(Loss):\n",
    "    \n",
    "    def __init__(self):\n",
    "        super().__init__()\n",
    "        \n",
    "    def call(self, y_true, y_pred):\n",
    "        square_pred = K.square(y_true - y_pred)\n",
    "        mean_pred = K.mean(square_pred)\n",
    "        error = K.sqrt(mean_pred)\n",
    "\n",
    "        return error      \n",
    "        \n",
    "def allanRMSE(y_true, y_pred):\n",
    "    square_pred = K.square(y_true - y_pred)\n",
    "    mean_pred = K.mean(square_pred)\n",
    "    error = K.sqrt(mean_pred)\n",
    "    \n",
    "    return error"
   ]
  },
  {
   "cell_type": "code",
   "execution_count": 13,
   "metadata": {
    "colab": {},
    "colab_type": "code",
    "deletable": false,
    "id": "bXNGIkq2Azmf",
    "nbgrader": {
     "cell_type": "code",
     "checksum": "8301324615aba1e02e1f756b4bf1b092",
     "grade": false,
     "grade_id": "cell-31648b482908e493",
     "locked": false,
     "schema_version": 3,
     "solution": true,
     "task": false
    }
   },
   "outputs": [],
   "source": [
    "\n",
    "# def my_rmse(y_true, y_pred):\n",
    "#     error = # YOUR CODE HERE\n",
    "#     sqr_error = # YOUR CODE HERE\n",
    "#     mean_sqr_error = # YOUR CODE HERE\n",
    "#     sqrt_mean_sqr_error = # YOUR CODE HERE\n",
    "#     return sqrt_mean_sqr_error"
   ]
  },
  {
   "cell_type": "code",
   "execution_count": null,
   "metadata": {
    "deletable": false,
    "editable": false,
    "nbgrader": {
     "cell_type": "code",
     "checksum": "afa4ace3428496820b8b6fb542ca5117",
     "grade": true,
     "grade_id": "cell-578f76b36f8ee858",
     "locked": true,
     "points": 1,
     "schema_version": 3,
     "solution": false,
     "task": false
    }
   },
   "outputs": [],
   "source": [
    "utils.test_my_rmse(my_rmse)\n"
   ]
  },
  {
   "cell_type": "markdown",
   "metadata": {},
   "source": [
    "### Define a model using the custom loss function (TODO)\n",
    "Similar to the ungraded labs, you will define a simple model and pass the function you just coded as the loss.\n",
    "- When compiling the model, you'll choose the `sgd` optimizer and set the `loss` parameter to the custom loss function that you just defined.\n",
    "- For grading purposes, please leave the other parameter values as is."
   ]
  },
  {
   "cell_type": "code",
   "execution_count": 21,
   "metadata": {
    "colab": {
     "base_uri": "https://localhost:8080/",
     "height": 34
    },
    "colab_type": "code",
    "deletable": false,
    "id": "2eY7fw0EHwda",
    "nbgrader": {
     "cell_type": "code",
     "checksum": "8af71f8408d04ff7abaf41eb3414c8f6",
     "grade": false,
     "grade_id": "cell-5a29bb71c93124fc",
     "locked": false,
     "schema_version": 3,
     "solution": true,
     "task": false
    },
    "outputId": "a3ea92e4-050e-463d-82c9-9b149554ae41"
   },
   "outputs": [
    {
     "name": "stdout",
     "output_type": "stream",
     "text": [
      "1/1 [==============================] - 0s 63ms/step\n",
      "[[18.95572]]\n"
     ]
    }
   ],
   "source": [
    "# define the model architecture\n",
    "model = tf.keras.Sequential([keras.layers.Dense(units=1, input_shape=[1])])\n",
    "\n",
    "# use the function you just coded as the loss\n",
    "model.compile(optimizer='sgd', loss=allanRMSE)\n",
    "              \n",
    "# train the model \n",
    "model.fit(xs, ys, epochs=500,verbose=0)\n",
    "              \n",
    "# test with a sample input\n",
    "print(model.predict([10.0]))"
   ]
  },
  {
   "cell_type": "code",
   "execution_count": 25,
   "metadata": {
    "collapsed": true
   },
   "outputs": [
    {
     "name": "stdout",
     "output_type": "stream",
     "text": [
      "WARNING:tensorflow:6 out of the last 6 calls to <function Model.make_predict_function.<locals>.predict_function at 0x0000020BB3829678> triggered tf.function retracing. Tracing is expensive and the excessive number of tracings could be due to (1) creating @tf.function repeatedly in a loop, (2) passing tensors with different shapes, (3) passing Python objects instead of tensors. For (1), please define your @tf.function outside of the loop. For (2), @tf.function has reduce_retracing=True option that can avoid unnecessary retracing. For (3), please refer to https://www.tensorflow.org/guide/function#controlling_retracing and https://www.tensorflow.org/api_docs/python/tf/function for  more details.\n",
      "1/1 [==============================] - 0s 63ms/step\n",
      "[[19.164412]]\n"
     ]
    }
   ],
   "source": [
    "# define the model architecture\n",
    "model = tf.keras.Sequential([keras.layers.Dense(units=1, input_shape=[1])])\n",
    "\n",
    "# use the function you just coded as the loss (subclassing API)\n",
    "model.compile(optimizer='sgd', loss=AllanRMSE())\n",
    "              \n",
    "# train the model \n",
    "model.fit(xs, ys, epochs=500,verbose=0)\n",
    "              \n",
    "# test with a sample input\n",
    "print(model.predict([10.0]))"
   ]
  },
  {
   "cell_type": "code",
   "execution_count": null,
   "metadata": {
    "deletable": false,
    "editable": false,
    "nbgrader": {
     "cell_type": "code",
     "checksum": "b8da4dc42fa87a1722251adddae9516c",
     "grade": true,
     "grade_id": "cell-e46bc4e00375b387",
     "locked": true,
     "points": 1,
     "schema_version": 3,
     "solution": false,
     "task": false
    }
   },
   "outputs": [],
   "source": [
    "utils.test_model_loss(model.loss)\n"
   ]
  },
  {
   "cell_type": "code",
   "execution_count": null,
   "metadata": {},
   "outputs": [],
   "source": []
  }
 ],
 "metadata": {
  "colab": {
   "include_colab_link": true,
   "name": "exercise-answer.ipynb",
   "provenance": []
  },
  "kernelspec": {
   "display_name": "Python 3 (ipykernel)",
   "language": "python",
   "name": "python3"
  },
  "language_info": {
   "codemirror_mode": {
    "name": "ipython",
    "version": 3
   },
   "file_extension": ".py",
   "mimetype": "text/x-python",
   "name": "python",
   "nbconvert_exporter": "python",
   "pygments_lexer": "ipython3",
   "version": "3.7.13"
  }
 },
 "nbformat": 4,
 "nbformat_minor": 4
}
