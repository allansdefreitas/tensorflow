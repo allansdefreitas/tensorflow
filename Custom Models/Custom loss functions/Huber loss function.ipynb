{
 "cells": [
  {
   "cell_type": "markdown",
   "metadata": {},
   "source": [
    "# Ungraded Lab: Huber Loss\n",
    "\n",
    "In this lab, we'll walk through how to create custom loss functions. In particular, we'll code the [Huber Loss](https://en.wikipedia.org/wiki/Huber_loss) and use that in training the model."
   ]
  },
  {
   "cell_type": "markdown",
   "metadata": {},
   "source": [
    "## Imports"
   ]
  },
  {
   "cell_type": "code",
   "execution_count": 20,
   "metadata": {
    "colab": {},
    "colab_type": "code",
    "id": "0p84I7yFHRT2"
   },
   "outputs": [],
   "source": [
    "try:\n",
    "  # %tensorflow_version only exists in Colab.\n",
    "  %tensorflow_version 2.x\n",
    "except Exception:\n",
    "  pass\n",
    "\n",
    "import tensorflow as tf\n",
    "import numpy as np\n",
    "from tensorflow import keras\n",
    "from tensorflow.keras.utils import plot_model"
   ]
  },
  {
   "cell_type": "markdown",
   "metadata": {},
   "source": [
    "## Prepare the Data\n",
    "\n",
    "Our dummy dataset is just a pair of arrays `xs` and `ys` defined by the relationship $y = 2x - 1$. `xs` are the inputs while `ys` are the labels."
   ]
  },
  {
   "cell_type": "code",
   "execution_count": 21,
   "metadata": {},
   "outputs": [],
   "source": [
    "# inputs\n",
    "xs = np.array([-1.0,  0.0, 1.0, 2.0, 3.0, 4.0], dtype=float)\n",
    "\n",
    "# labels\n",
    "ys = np.array([-3.0, -1.0, 1.0, 3.0, 5.0, 7.0], dtype=float)"
   ]
  },
  {
   "cell_type": "markdown",
   "metadata": {},
   "source": [
    "## Training the model\n",
    "\n",
    "Let's build a simple model and train using a built-in loss function like the `mean_squared_error`."
   ]
  },
  {
   "cell_type": "code",
   "execution_count": 22,
   "metadata": {
    "colab": {},
    "colab_type": "code",
    "id": "2eY7fw0EHwda"
   },
   "outputs": [],
   "source": [
    "model = tf.keras.Sequential([keras.layers.Dense(units=1, input_shape=[1])]) #just a hello world model"
   ]
  },
  {
   "cell_type": "code",
   "execution_count": 23,
   "metadata": {},
   "outputs": [
    {
     "name": "stdout",
     "output_type": "stream",
     "text": [
      "Model: \"sequential_2\"\n",
      "_________________________________________________________________\n",
      " Layer (type)                Output Shape              Param #   \n",
      "=================================================================\n",
      " dense_2 (Dense)             (None, 1)                 2         \n",
      "                                                                 \n",
      "=================================================================\n",
      "Total params: 2\n",
      "Trainable params: 2\n",
      "Non-trainable params: 0\n",
      "_________________________________________________________________\n"
     ]
    }
   ],
   "source": [
    "model.summary()"
   ]
  },
  {
   "cell_type": "code",
   "execution_count": 24,
   "metadata": {},
   "outputs": [
    {
     "data": {
      "image/png": "[encoded data removed]",
      "text/plain": [
       "<IPython.core.display.Image object>"
      ]
     },
     "execution_count": 24,
     "metadata": {},
     "output_type": "execute_result"
    }
   ],
   "source": [
    "plot_model(model, show_shapes=True, show_layer_names=True, to_file='model-arch.png')"
   ]
  },
  {
   "cell_type": "code",
   "execution_count": 25,
   "metadata": {},
   "outputs": [
    {
     "name": "stdout",
     "output_type": "stream",
     "text": [
      "1/1 [==============================] - 0s 50ms/step\n",
      "[[18.980217]]\n"
     ]
    }
   ],
   "source": [
    "model.compile(optimizer='sgd', loss='mean_squared_error')\n",
    "model.fit(xs, ys, epochs=500,verbose=0)\n",
    "\n",
    "print(model.predict([10.0]))"
   ]
  },
  {
   "cell_type": "markdown",
   "metadata": {},
   "source": [
    "### Custom Loss\n",
    "\n",
    "Now let's see how we can use a custom loss. We first define a function that accepts the ground truth labels (`y_true`) and model predictions (`y_pred`) as parameters. We then compute and return the loss value in the function definition."
   ]
  },
  {
   "cell_type": "code",
   "execution_count": 26,
   "metadata": {},
   "outputs": [],
   "source": [
    "#https://en.wikipedia.org/wiki/Huber_loss#:~:text=In%20statistics%2C%20the%20Huber%20loss,classification%20is%20also%20sometimes%20used."
   ]
  },
  {
   "cell_type": "code",
   "execution_count": 27,
   "metadata": {},
   "outputs": [
    {
     "data": {
      "image/svg+xml": [
       "<svg aria-labelledby=\"MathJax-SVG-1-Title\" focusable=\"false\" height=\"7.509ex\" role=\"img\" style=\"vertical-align: -3.171ex;\" viewBox=\"0 -1867.7 16484.9 3233.2\" width=\"38.288ex\" xmlns=\"http://www.w3.org/2000/svg\" xmlns:xlink=\"http://www.w3.org/1999/xlink\">\n",
       "<title id=\"MathJax-SVG-1-Title\">{\\displaystyle L_{\\delta }(a)={\\begin{cases}{\\frac {1}{2}}{a^{2}}&amp;{\\text{for }}|a|\\leq \\delta ,\\\\\\delta \\cdot \\left(|a|-{\\frac {1}{2}}\\delta \\right),&amp;{\\text{otherwise.}}\\end{cases}}}</title>\n",
       "<defs aria-hidden=\"true\">\n",
       "<path d=\"M228 637Q194 637 192 641Q191 643 191 649Q191 673 202 682Q204 683 217 683Q271 680 344 680Q485 680 506 683H518Q524 677 524 674T522 656Q517 641 513 637H475Q406 636 394 628Q387 624 380 600T313 336Q297 271 279 198T252 88L243 52Q243 48 252 48T311 46H328Q360 46 379 47T428 54T478 72T522 106T564 161Q580 191 594 228T611 270Q616 273 628 273H641Q647 264 647 262T627 203T583 83T557 9Q555 4 553 3T537 0T494 -1Q483 -1 418 -1T294 0H116Q32 0 32 10Q32 17 34 24Q39 43 44 45Q48 46 59 46H65Q92 46 125 49Q139 52 144 61Q147 65 216 339T285 628Q285 635 228 637Z\" id=\"E1-MJMATHI-4C\" stroke-width=\"1\"/>\n",
       "<path d=\"M195 609Q195 656 227 686T302 717Q319 716 351 709T407 697T433 690Q451 682 451 662Q451 644 438 628T403 612Q382 612 348 641T288 671T249 657T235 628Q235 584 334 463Q401 379 401 292Q401 169 340 80T205 -10H198Q127 -10 83 36T36 153Q36 286 151 382Q191 413 252 434Q252 435 245 449T230 481T214 521T201 566T195 609ZM112 130Q112 83 136 55T204 27Q233 27 256 51T291 111T309 178T316 232Q316 267 309 298T295 344T269 400L259 396Q215 381 183 342T137 256T118 179T112 130Z\" id=\"E1-MJMATHI-3B4\" stroke-width=\"1\"/>\n",
       "<path d=\"M94 250Q94 319 104 381T127 488T164 576T202 643T244 695T277 729T302 750H315H319Q333 750 333 741Q333 738 316 720T275 667T226 581T184 443T167 250T184 58T225 -81T274 -167T316 -220T333 -241Q333 -250 318 -250H315H302L274 -226Q180 -141 137 -14T94 250Z\" id=\"E1-MJMAIN-28\" stroke-width=\"1\"/>\n",
       "<path d=\"M33 157Q33 258 109 349T280 441Q331 441 370 392Q386 422 416 422Q429 422 439 414T449 394Q449 381 412 234T374 68Q374 43 381 35T402 26Q411 27 422 35Q443 55 463 131Q469 151 473 152Q475 153 483 153H487Q506 153 506 144Q506 138 501 117T481 63T449 13Q436 0 417 -8Q409 -10 393 -10Q359 -10 336 5T306 36L300 51Q299 52 296 50Q294 48 292 46Q233 -10 172 -10Q117 -10 75 30T33 157ZM351 328Q351 334 346 350T323 385T277 405Q242 405 210 374T160 293Q131 214 119 129Q119 126 119 118T118 106Q118 61 136 44T179 26Q217 26 254 59T298 110Q300 114 325 217T351 328Z\" id=\"E1-MJMATHI-61\" stroke-width=\"1\"/>\n",
       "<path d=\"M60 749L64 750Q69 750 74 750H86L114 726Q208 641 251 514T294 250Q294 182 284 119T261 12T224 -76T186 -143T145 -194T113 -227T90 -246Q87 -249 86 -250H74Q66 -250 63 -250T58 -247T55 -238Q56 -237 66 -225Q221 -64 221 250T66 725Q56 737 55 738Q55 746 60 749Z\" id=\"E1-MJMAIN-29\" stroke-width=\"1\"/>\n",
       "<path d=\"M56 347Q56 360 70 367H707Q722 359 722 347Q722 336 708 328L390 327H72Q56 332 56 347ZM56 153Q56 168 72 173H708Q722 163 722 153Q722 140 707 133H70Q56 140 56 153Z\" id=\"E1-MJMAIN-3D\" stroke-width=\"1\"/>\n",
       "<path d=\"M434 -231Q434 -244 428 -250H410Q281 -250 230 -184Q225 -177 222 -172T217 -161T213 -148T211 -133T210 -111T209 -84T209 -47T209 0Q209 21 209 53Q208 142 204 153Q203 154 203 155Q189 191 153 211T82 231Q71 231 68 234T65 250T68 266T82 269Q116 269 152 289T203 345Q208 356 208 377T209 529V579Q209 634 215 656T244 698Q270 724 324 740Q361 748 377 749Q379 749 390 749T408 750H428Q434 744 434 732Q434 719 431 716Q429 713 415 713Q362 710 332 689T296 647Q291 634 291 499V417Q291 370 288 353T271 314Q240 271 184 255L170 250L184 245Q202 239 220 230T262 196T290 137Q291 131 291 1Q291 -134 296 -147Q306 -174 339 -192T415 -213Q429 -213 431 -216Q434 -219 434 -231Z\" id=\"E1-MJMAIN-7B\" stroke-width=\"1\"/>\n",
       "<path d=\"M213 578L200 573Q186 568 160 563T102 556H83V602H102Q149 604 189 617T245 641T273 663Q275 666 285 666Q294 666 302 660V361L303 61Q310 54 315 52T339 48T401 46H427V0H416Q395 3 257 3Q121 3 100 0H88V46H114Q136 46 152 46T177 47T193 50T201 52T207 57T213 61V578Z\" id=\"E1-MJMAIN-31\" stroke-width=\"1\"/>\n",
       "<path d=\"M109 429Q82 429 66 447T50 491Q50 562 103 614T235 666Q326 666 387 610T449 465Q449 422 429 383T381 315T301 241Q265 210 201 149L142 93L218 92Q375 92 385 97Q392 99 409 186V189H449V186Q448 183 436 95T421 3V0H50V19V31Q50 38 56 46T86 81Q115 113 136 137Q145 147 170 174T204 211T233 244T261 278T284 308T305 340T320 369T333 401T340 431T343 464Q343 527 309 573T212 619Q179 619 154 602T119 569T109 550Q109 549 114 549Q132 549 151 535T170 489Q170 464 154 447T109 429Z\" id=\"E1-MJMAIN-32\" stroke-width=\"1\"/>\n",
       "<path d=\"M273 0Q255 3 146 3Q43 3 34 0H26V46H42Q70 46 91 49Q99 52 103 60Q104 62 104 224V385H33V431H104V497L105 564L107 574Q126 639 171 668T266 704Q267 704 275 704T289 705Q330 702 351 679T372 627Q372 604 358 590T321 576T284 590T270 627Q270 647 288 667H284Q280 668 273 668Q245 668 223 647T189 592Q183 572 182 497V431H293V385H185V225Q185 63 186 61T189 57T194 54T199 51T206 49T213 48T222 47T231 47T241 46T251 46H282V0H273Z\" id=\"E1-MJMAIN-66\" stroke-width=\"1\"/>\n",
       "<path d=\"M28 214Q28 309 93 378T250 448Q340 448 405 380T471 215Q471 120 407 55T250 -10Q153 -10 91 57T28 214ZM250 30Q372 30 372 193V225V250Q372 272 371 288T364 326T348 362T317 390T268 410Q263 411 252 411Q222 411 195 399Q152 377 139 338T126 246V226Q126 130 145 91Q177 30 250 30Z\" id=\"E1-MJMAIN-6F\" stroke-width=\"1\"/>\n",
       "<path d=\"M36 46H50Q89 46 97 60V68Q97 77 97 91T98 122T98 161T98 203Q98 234 98 269T98 328L97 351Q94 370 83 376T38 385H20V408Q20 431 22 431L32 432Q42 433 60 434T96 436Q112 437 131 438T160 441T171 442H174V373Q213 441 271 441H277Q322 441 343 419T364 373Q364 352 351 337T313 322Q288 322 276 338T263 372Q263 381 265 388T270 400T273 405Q271 407 250 401Q234 393 226 386Q179 341 179 207V154Q179 141 179 127T179 101T180 81T180 66V61Q181 59 183 57T188 54T193 51T200 49T207 48T216 47T225 47T235 46T245 46H276V0H267Q249 3 140 3Q37 3 28 0H20V46H36Z\" id=\"E1-MJMAIN-72\" stroke-width=\"1\"/>\n",
       "<path d=\"M139 -249H137Q125 -249 119 -235V251L120 737Q130 750 139 750Q152 750 159 735V-235Q151 -249 141 -249H139Z\" id=\"E1-MJMAIN-7C\" stroke-width=\"1\"/>\n",
       "<path d=\"M674 636Q682 636 688 630T694 615T687 601Q686 600 417 472L151 346L399 228Q687 92 691 87Q694 81 694 76Q694 58 676 56H670L382 192Q92 329 90 331Q83 336 83 348Q84 359 96 365Q104 369 382 500T665 634Q669 636 674 636ZM84 -118Q84 -108 99 -98H678Q694 -104 694 -118Q694 -130 679 -138H98Q84 -131 84 -118Z\" id=\"E1-MJMAIN-2264\" stroke-width=\"1\"/>\n",
       "<path d=\"M78 35T78 60T94 103T137 121Q165 121 187 96T210 8Q210 -27 201 -60T180 -117T154 -158T130 -185T117 -194Q113 -194 104 -185T95 -172Q95 -168 106 -156T131 -126T157 -76T173 -3V9L172 8Q170 7 167 6T161 3T152 1T140 0Q113 0 96 17Z\" id=\"E1-MJMAIN-2C\" stroke-width=\"1\"/>\n",
       "<path d=\"M78 250Q78 274 95 292T138 310Q162 310 180 294T199 251Q199 226 182 208T139 190T96 207T78 250Z\" id=\"E1-MJMAIN-22C5\" stroke-width=\"1\"/>\n",
       "<path d=\"M84 237T84 250T98 270H679Q694 262 694 250T679 230H98Q84 237 84 250Z\" id=\"E1-MJMAIN-2212\" stroke-width=\"1\"/>\n",
       "<path d=\"M152 251Q152 646 388 850H416Q422 844 422 841Q422 837 403 816T357 753T302 649T255 482T236 250Q236 124 255 19T301 -147T356 -251T403 -315T422 -340Q422 -343 416 -349H388Q359 -325 332 -296T271 -213T212 -97T170 56T152 251Z\" id=\"E1-MJSZ1-28\" stroke-width=\"1\"/>\n",
       "<path d=\"M305 251Q305 -145 69 -349H56Q43 -349 39 -347T35 -338Q37 -333 60 -307T108 -239T160 -136T204 27T221 250T204 473T160 636T108 740T60 807T35 839Q35 850 50 850H56H69Q197 743 256 566Q305 425 305 251Z\" id=\"E1-MJSZ1-29\" stroke-width=\"1\"/>\n",
       "<path d=\"M27 422Q80 426 109 478T141 600V615H181V431H316V385H181V241Q182 116 182 100T189 68Q203 29 238 29Q282 29 292 100Q293 108 293 146V181H333V146V134Q333 57 291 17Q264 -10 221 -10Q187 -10 162 2T124 33T105 68T98 100Q97 107 97 248V385H18V422H27Z\" id=\"E1-MJMAIN-74\" stroke-width=\"1\"/>\n",
       "<path d=\"M41 46H55Q94 46 102 60V68Q102 77 102 91T102 124T102 167T103 217T103 272T103 329Q103 366 103 407T103 482T102 542T102 586T102 603Q99 622 88 628T43 637H25V660Q25 683 27 683L37 684Q47 685 66 686T103 688Q120 689 140 690T170 693T181 694H184V367Q244 442 328 442Q451 442 463 329Q464 322 464 190V104Q464 66 466 59T477 49Q498 46 526 46H542V0H534L510 1Q487 2 460 2T422 3Q319 3 310 0H302V46H318Q379 46 379 62Q380 64 380 200Q379 335 378 343Q372 371 358 385T334 402T308 404Q263 404 229 370Q202 343 195 315T187 232V168V108Q187 78 188 68T191 55T200 49Q221 46 249 46H265V0H257L234 1Q210 2 183 2T145 3Q42 3 33 0H25V46H41Z\" id=\"E1-MJMAIN-68\" stroke-width=\"1\"/>\n",
       "<path d=\"M28 218Q28 273 48 318T98 391T163 433T229 448Q282 448 320 430T378 380T406 316T415 245Q415 238 408 231H126V216Q126 68 226 36Q246 30 270 30Q312 30 342 62Q359 79 369 104L379 128Q382 131 395 131H398Q415 131 415 121Q415 117 412 108Q393 53 349 21T250 -11Q155 -11 92 58T28 218ZM333 275Q322 403 238 411H236Q228 411 220 410T195 402T166 381T143 340T127 274V267H333V275Z\" id=\"E1-MJMAIN-65\" stroke-width=\"1\"/>\n",
       "<path d=\"M90 368Q84 378 76 380T40 385H18V431H24L43 430Q62 430 84 429T116 428Q206 428 221 431H229V385H215Q177 383 177 368Q177 367 221 239L265 113L339 328L333 345Q323 374 316 379Q308 384 278 385H258V431H264Q270 428 348 428Q439 428 454 431H461V385H452Q404 385 404 369Q404 366 418 324T449 234T481 143L496 100L537 219Q579 341 579 347Q579 363 564 373T530 385H522V431H529Q541 428 624 428Q692 428 698 431H703V385H697Q696 385 691 385T682 384Q635 377 619 334L559 161Q546 124 528 71Q508 12 503 1T487 -11H479Q460 -11 456 -4Q455 -3 407 133L361 267Q359 263 266 -4Q261 -11 243 -11H238Q225 -11 220 -3L90 368Z\" id=\"E1-MJMAIN-77\" stroke-width=\"1\"/>\n",
       "<path d=\"M69 609Q69 637 87 653T131 669Q154 667 171 652T188 609Q188 579 171 564T129 549Q104 549 87 564T69 609ZM247 0Q232 3 143 3Q132 3 106 3T56 1L34 0H26V46H42Q70 46 91 49Q100 53 102 60T104 102V205V293Q104 345 102 359T88 378Q74 385 41 385H30V408Q30 431 32 431L42 432Q52 433 70 434T106 436Q123 437 142 438T171 441T182 442H185V62Q190 52 197 50T232 46H255V0H247Z\" id=\"E1-MJMAIN-69\" stroke-width=\"1\"/>\n",
       "<path d=\"M295 316Q295 356 268 385T190 414Q154 414 128 401Q98 382 98 349Q97 344 98 336T114 312T157 287Q175 282 201 278T245 269T277 256Q294 248 310 236T342 195T359 133Q359 71 321 31T198 -10H190Q138 -10 94 26L86 19L77 10Q71 4 65 -1L54 -11H46H42Q39 -11 33 -5V74V132Q33 153 35 157T45 162H54Q66 162 70 158T75 146T82 119T101 77Q136 26 198 26Q295 26 295 104Q295 133 277 151Q257 175 194 187T111 210Q75 227 54 256T33 318Q33 357 50 384T93 424T143 442T187 447H198Q238 447 268 432L283 424L292 431Q302 440 314 448H322H326Q329 448 335 442V310L329 304H301Q295 310 295 316Z\" id=\"E1-MJMAIN-73\" stroke-width=\"1\"/>\n",
       "<path d=\"M78 60Q78 84 95 102T138 120Q162 120 180 104T199 61Q199 36 182 18T139 0T96 17T78 60Z\" id=\"E1-MJMAIN-2E\" stroke-width=\"1\"/>\n",
       "<path d=\"M661 -1243L655 -1249H622L604 -1240Q503 -1190 434 -1107T348 -909Q346 -897 346 -499L345 -98L343 -82Q335 3 287 87T157 223Q146 232 145 236Q144 240 144 250Q144 265 145 268T157 278Q242 333 288 417T343 583L345 600L346 1001Q346 1398 348 1410Q379 1622 600 1739L622 1750H655L661 1744V1727V1721Q661 1712 661 1710T657 1705T648 1700T630 1690T602 1668Q589 1659 574 1643T531 1593T484 1508T459 1398Q458 1389 458 1001Q458 614 457 605Q441 435 301 316Q254 277 202 251L250 222Q260 216 301 185Q443 66 457 -104Q458 -113 458 -501Q458 -888 459 -897Q463 -944 478 -988T509 -1060T548 -1114T580 -1149T602 -1167Q620 -1183 634 -1192T653 -1202T659 -1207T661 -1220V-1226V-1243Z\" id=\"E1-MJSZ4-7B\" stroke-width=\"1\"/>\n",
       "</defs>\n",
       "<g aria-hidden=\"true\" fill=\"currentColor\" stroke=\"currentColor\" stroke-width=\"0\" transform=\"matrix(1 0 0 -1 0 0)\">\n",
       " <use x=\"0\" xlink:href=\"#E1-MJMATHI-4C\" y=\"0\"/>\n",
       " <use transform=\"scale(0.707)\" x=\"963\" xlink:href=\"#E1-MJMATHI-3B4\" y=\"-231\"/>\n",
       " <use x=\"1100\" xlink:href=\"#E1-MJMAIN-28\" y=\"0\"/>\n",
       " <use x=\"1490\" xlink:href=\"#E1-MJMATHI-61\" y=\"0\"/>\n",
       " <use x=\"2019\" xlink:href=\"#E1-MJMAIN-29\" y=\"0\"/>\n",
       " <use x=\"2687\" xlink:href=\"#E1-MJMAIN-3D\" y=\"0\"/>\n",
       "<g transform=\"translate(3743,0)\">\n",
       " <use xlink:href=\"#E1-MJSZ4-7B\"/>\n",
       "<g transform=\"translate(973,0)\">\n",
       "<g transform=\"translate(-11,0)\">\n",
       "<g transform=\"translate(0,766)\">\n",
       "<g transform=\"translate(120,0)\">\n",
       "<rect height=\"60\" stroke=\"none\" width=\"473\" x=\"0\" y=\"220\"/>\n",
       " <use transform=\"scale(0.707)\" x=\"84\" xlink:href=\"#E1-MJMAIN-31\" y=\"629\"/>\n",
       " <use transform=\"scale(0.707)\" x=\"84\" xlink:href=\"#E1-MJMAIN-32\" y=\"-589\"/>\n",
       "</g>\n",
       "<g transform=\"translate(713,0)\">\n",
       " <use x=\"0\" xlink:href=\"#E1-MJMATHI-61\" y=\"0\"/>\n",
       " <use transform=\"scale(0.707)\" x=\"748\" xlink:href=\"#E1-MJMAIN-32\" y=\"513\"/>\n",
       "</g>\n",
       "</g>\n",
       "<g transform=\"translate(0,-767)\">\n",
       " <use x=\"0\" xlink:href=\"#E1-MJMATHI-3B4\" y=\"0\"/>\n",
       " <use x=\"673\" xlink:href=\"#E1-MJMAIN-22C5\" y=\"0\"/>\n",
       "<g transform=\"translate(1174,0)\">\n",
       " <use xlink:href=\"#E1-MJSZ1-28\"/>\n",
       "<g transform=\"translate(458,0)\">\n",
       " <use x=\"0\" xlink:href=\"#E1-MJMAIN-7C\" y=\"0\"/>\n",
       " <use x=\"278\" xlink:href=\"#E1-MJMATHI-61\" y=\"0\"/>\n",
       " <use x=\"808\" xlink:href=\"#E1-MJMAIN-7C\" y=\"0\"/>\n",
       " <use x=\"1308\" xlink:href=\"#E1-MJMAIN-2212\" y=\"0\"/>\n",
       "<g transform=\"translate(2309,0)\">\n",
       "<g transform=\"translate(120,0)\">\n",
       "<rect height=\"60\" stroke=\"none\" width=\"473\" x=\"0\" y=\"220\"/>\n",
       " <use transform=\"scale(0.707)\" x=\"84\" xlink:href=\"#E1-MJMAIN-31\" y=\"629\"/>\n",
       " <use transform=\"scale(0.707)\" x=\"84\" xlink:href=\"#E1-MJMAIN-32\" y=\"-589\"/>\n",
       "</g>\n",
       "</g>\n",
       " <use x=\"3023\" xlink:href=\"#E1-MJMATHI-3B4\" y=\"0\"/>\n",
       "</g>\n",
       " <use x=\"3933\" xlink:href=\"#E1-MJSZ1-29\" y=\"-1\"/>\n",
       "</g>\n",
       " <use x=\"5732\" xlink:href=\"#E1-MJMAIN-2C\" y=\"0\"/>\n",
       "</g>\n",
       "</g>\n",
       "<g transform=\"translate(7001,0)\">\n",
       "<g transform=\"translate(0,766)\">\n",
       " <use xlink:href=\"#E1-MJMAIN-66\"/>\n",
       " <use x=\"306\" xlink:href=\"#E1-MJMAIN-6F\" y=\"0\"/>\n",
       " <use x=\"807\" xlink:href=\"#E1-MJMAIN-72\" y=\"0\"/>\n",
       " <use x=\"1449\" xlink:href=\"#E1-MJMAIN-7C\" y=\"0\"/>\n",
       " <use x=\"1728\" xlink:href=\"#E1-MJMATHI-61\" y=\"0\"/>\n",
       " <use x=\"2257\" xlink:href=\"#E1-MJMAIN-7C\" y=\"0\"/>\n",
       " <use x=\"2813\" xlink:href=\"#E1-MJMAIN-2264\" y=\"0\"/>\n",
       " <use x=\"3870\" xlink:href=\"#E1-MJMATHI-3B4\" y=\"0\"/>\n",
       " <use x=\"4321\" xlink:href=\"#E1-MJMAIN-2C\" y=\"0\"/>\n",
       "</g>\n",
       "<g transform=\"translate(0,-767)\">\n",
       " <use xlink:href=\"#E1-MJMAIN-6F\"/>\n",
       " <use x=\"500\" xlink:href=\"#E1-MJMAIN-74\" y=\"0\"/>\n",
       " <use x=\"890\" xlink:href=\"#E1-MJMAIN-68\" y=\"0\"/>\n",
       " <use x=\"1446\" xlink:href=\"#E1-MJMAIN-65\" y=\"0\"/>\n",
       " <use x=\"1891\" xlink:href=\"#E1-MJMAIN-72\" y=\"0\"/>\n",
       " <use x=\"2283\" xlink:href=\"#E1-MJMAIN-77\" y=\"0\"/>\n",
       " <use x=\"3006\" xlink:href=\"#E1-MJMAIN-69\" y=\"0\"/>\n",
       " <use x=\"3284\" xlink:href=\"#E1-MJMAIN-73\" y=\"0\"/>\n",
       " <use x=\"3679\" xlink:href=\"#E1-MJMAIN-65\" y=\"0\"/>\n",
       " <use x=\"4123\" xlink:href=\"#E1-MJMAIN-2E\" y=\"0\"/>\n",
       "</g>\n",
       "</g>\n",
       "</g>\n",
       "</g>\n",
       "</g>\n",
       "</svg>"
      ],
      "text/plain": [
       "<IPython.core.display.SVG object>"
      ]
     },
     "metadata": {},
     "output_type": "display_data"
    }
   ],
   "source": [
    "from IPython.display import Image, SVG, display\n",
    "\n",
    "display(SVG(url='https://wikimedia.org/api/rest_v1/media/math/render/svg/9a722eaaa691fde22dfbd9ccaee9fd733021cd0f'))"
   ]
  },
  {
   "cell_type": "code",
   "execution_count": 28,
   "metadata": {
    "colab": {},
    "colab_type": "code",
    "id": "fHtDxE0lI_Hg"
   },
   "outputs": [],
   "source": [
    "def my_huber_loss(y_true, y_pred):\n",
    "    threshold = 1\n",
    "    error = y_true - y_pred\n",
    "    is_small_error = tf.abs(error) <= threshold\n",
    "    small_error_loss = tf.square(error) / 2\n",
    "    big_error_loss = threshold * (tf.abs(error) - (0.5 * threshold))\n",
    "    return tf.where(is_small_error, small_error_loss, big_error_loss)"
   ]
  },
  {
   "cell_type": "markdown",
   "metadata": {},
   "source": [
    "Using the loss function is as simple as specifying the loss function in the `loss` argument of `model.compile()`."
   ]
  },
  {
   "cell_type": "code",
   "execution_count": 29,
   "metadata": {
    "colab": {},
    "colab_type": "code",
    "id": "K7rgmb5qH5QX"
   },
   "outputs": [
    {
     "name": "stdout",
     "output_type": "stream",
     "text": [
      "1/1 [==============================] - 0s 39ms/step\n",
      "[[18.691187]]\n"
     ]
    }
   ],
   "source": [
    "model = tf.keras.Sequential([keras.layers.Dense(units=1, input_shape=[1])])\n",
    "model.compile(optimizer='sgd', loss=my_huber_loss)\n",
    "model.fit(xs, ys, epochs=500,verbose=0)\n",
    "print(model.predict([10.0]))"
   ]
  },
  {
   "cell_type": "code",
   "execution_count": null,
   "metadata": {},
   "outputs": [],
   "source": []
  },
  {
   "cell_type": "code",
   "execution_count": null,
   "metadata": {},
   "outputs": [],
   "source": []
  }
 ],
 "metadata": {
  "colab": {
   "include_colab_link": true,
   "name": "first-loss.ipynb",
   "provenance": []
  },
  "kernelspec": {
   "display_name": "Python 3 (ipykernel)",
   "language": "python",
   "name": "python3"
  },
  "language_info": {
   "codemirror_mode": {
    "name": "ipython",
    "version": 3
   },
   "file_extension": ".py",
   "mimetype": "text/x-python",
   "name": "python",
   "nbconvert_exporter": "python",
   "pygments_lexer": "ipython3",
   "version": "3.7.13"
  }
 },
 "nbformat": 4,
 "nbformat_minor": 4
}
