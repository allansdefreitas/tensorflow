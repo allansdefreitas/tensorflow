{
 "cells": [
  {
   "cell_type": "code",
   "execution_count": 14,
   "metadata": {},
   "outputs": [],
   "source": [
    "from tensorflow.examples.tutorials.mnist import input_data"
   ]
  },
  {
   "cell_type": "code",
   "execution_count": 16,
   "metadata": {},
   "outputs": [
    {
     "name": "stdout",
     "output_type": "stream",
     "text": [
      "Successfully downloaded train-images-idx3-ubyte.gz 9912422 bytes.\n",
      "Extracting ./../datasets/mnist/train-images-idx3-ubyte.gz\n",
      "Successfully downloaded train-labels-idx1-ubyte.gz 28881 bytes.\n",
      "Extracting ./../datasets/mnist/train-labels-idx1-ubyte.gz\n",
      "Successfully downloaded t10k-images-idx3-ubyte.gz 1648877 bytes.\n",
      "Extracting ./../datasets/mnist/t10k-images-idx3-ubyte.gz\n",
      "Successfully downloaded t10k-labels-idx1-ubyte.gz 4542 bytes.\n",
      "Extracting ./../datasets/mnist/t10k-labels-idx1-ubyte.gz\n"
     ]
    }
   ],
   "source": [
    "#Take a look! One hot encoding!\n",
    "mnist = input_data.read_data_sets('./../datasets/mnist/', one_hot = True)"
   ]
  },
  {
   "cell_type": "code",
   "execution_count": 47,
   "metadata": {},
   "outputs": [
    {
     "data": {
      "text/plain": [
       "(55000, 784)"
      ]
     },
     "execution_count": 47,
     "metadata": {},
     "output_type": "execute_result"
    }
   ],
   "source": [
    "#train data\n",
    "#data\n",
    "X_train = mnist.train.images\n",
    "#labels\n",
    "y_train = mnist.train.labels\n",
    "\n",
    "#test data: data and labesl\n",
    "X_test = mnist.test.images\n",
    "y_test = mnist.test.labels\n",
    "\n",
    "# 55K objects (28x28 images) with 784 features (28x28 = 784)\n",
    "X_train.shape"
   ]
  },
  {
   "cell_type": "code",
   "execution_count": 48,
   "metadata": {},
   "outputs": [
    {
     "data": {
      "text/plain": [
       "array([0.        , 0.        , 0.        , 0.        , 0.        ,\n",
       "       0.        , 0.        , 0.        , 0.        , 0.        ,\n",
       "       0.        , 0.        , 0.        , 0.        , 0.        ,\n",
       "       0.        , 0.        , 0.        , 0.        , 0.        ,\n",
       "       0.        , 0.        , 0.        , 0.        , 0.        ,\n",
       "       0.        , 0.        , 0.        , 0.        , 0.        ,\n",
       "       0.        , 0.        , 0.        , 0.        , 0.        ,\n",
       "       0.        , 0.        , 0.        , 0.        , 0.        ,\n",
       "       0.        , 0.        , 0.        , 0.        , 0.        ,\n",
       "       0.        , 0.        , 0.        , 0.        , 0.        ,\n",
       "       0.        , 0.        , 0.        , 0.        , 0.        ,\n",
       "       0.        , 0.        , 0.        , 0.        , 0.        ,\n",
       "       0.        , 0.        , 0.        , 0.        , 0.        ,\n",
       "       0.        , 0.        , 0.        , 0.        , 0.        ,\n",
       "       0.        , 0.        , 0.        , 0.        , 0.        ,\n",
       "       0.        , 0.        , 0.        , 0.        , 0.        ,\n",
       "       0.        , 0.        , 0.        , 0.        , 0.        ,\n",
       "       0.        , 0.        , 0.        , 0.        , 0.        ,\n",
       "       0.        , 0.        , 0.        , 0.        , 0.        ,\n",
       "       0.        , 0.00784314, 0.4431373 , 1.        , 0.9960785 ,\n",
       "       0.41176474, 0.        , 0.        , 0.        , 0.        ,\n",
       "       0.        , 0.        , 0.        , 0.        , 0.        ,\n",
       "       0.        , 0.        , 0.        , 0.        , 0.        ,\n",
       "       0.        , 0.        , 0.        , 0.        , 0.        ,\n",
       "       0.        , 0.        , 0.        , 0.        , 0.16078432,\n",
       "       0.9921569 , 0.9921569 , 0.9921569 , 0.8470589 , 0.05490196,\n",
       "       0.        , 0.        , 0.        , 0.        , 0.        ,\n",
       "       0.        , 0.        , 0.        , 0.        , 0.        ,\n",
       "       0.        , 0.        , 0.        , 0.        , 0.        ,\n",
       "       0.        , 0.        , 0.        , 0.        , 0.        ,\n",
       "       0.18823531, 0.43921572, 0.85098046, 0.9921569 , 0.9921569 ,\n",
       "       0.9921569 , 0.8196079 , 0.2392157 , 0.00392157, 0.        ,\n",
       "       0.        , 0.        , 0.        , 0.        , 0.        ,\n",
       "       0.        , 0.        , 0.        , 0.        , 0.        ,\n",
       "       0.        , 0.        , 0.        , 0.        , 0.        ,\n",
       "       0.        , 0.07843138, 0.4431373 , 0.96470594, 0.9921569 ,\n",
       "       0.9921569 , 0.9921569 , 0.9921569 , 0.9921569 , 0.9921569 ,\n",
       "       0.9921569 , 0.5058824 , 0.11764707, 0.        , 0.        ,\n",
       "       0.        , 0.        , 0.        , 0.        , 0.        ,\n",
       "       0.        , 0.        , 0.        , 0.        , 0.        ,\n",
       "       0.        , 0.        , 0.        , 0.        , 0.28235295,\n",
       "       0.9921569 , 0.9921569 , 0.9921569 , 0.9921569 , 0.9921569 ,\n",
       "       0.9921569 , 0.9921569 , 0.9921569 , 0.9921569 , 0.9921569 ,\n",
       "       0.79215693, 0.        , 0.        , 0.        , 0.        ,\n",
       "       0.        , 0.        , 0.        , 0.        , 0.        ,\n",
       "       0.        , 0.        , 0.        , 0.        , 0.        ,\n",
       "       0.        , 0.        , 0.28235295, 0.9921569 , 0.9921569 ,\n",
       "       0.9843138 , 0.5764706 , 0.28627452, 0.1137255 , 0.1137255 ,\n",
       "       0.5019608 , 0.9568628 , 0.9921569 , 0.87843144, 0.        ,\n",
       "       0.        , 0.        , 0.        , 0.        , 0.        ,\n",
       "       0.        , 0.        , 0.        , 0.        , 0.        ,\n",
       "       0.        , 0.        , 0.        , 0.        , 0.        ,\n",
       "       0.01176471, 0.04313726, 0.04313726, 0.04313726, 0.        ,\n",
       "       0.        , 0.        , 0.16078432, 0.65882355, 0.98823535,\n",
       "       0.9921569 , 0.854902  , 0.        , 0.        , 0.        ,\n",
       "       0.        , 0.        , 0.        , 0.        , 0.        ,\n",
       "       0.        , 0.        , 0.        , 0.        , 0.        ,\n",
       "       0.        , 0.        , 0.        , 0.        , 0.        ,\n",
       "       0.        , 0.        , 0.01176471, 0.17254902, 0.5568628 ,\n",
       "       0.8941177 , 0.9921569 , 0.9921569 , 0.427451  , 0.        ,\n",
       "       0.        , 0.        , 0.        , 0.        , 0.        ,\n",
       "       0.        , 0.        , 0.        , 0.        , 0.        ,\n",
       "       0.        , 0.        , 0.        , 0.        , 0.        ,\n",
       "       0.        , 0.        , 0.        , 0.        , 0.16862746,\n",
       "       0.65882355, 0.9921569 , 0.9921569 , 0.9921569 , 0.9921569 ,\n",
       "       0.42352945, 0.00784314, 0.        , 0.        , 0.        ,\n",
       "       0.        , 0.        , 0.        , 0.        , 0.        ,\n",
       "       0.        , 0.        , 0.        , 0.        , 0.        ,\n",
       "       0.        , 0.        , 0.        , 0.        , 0.06666667,\n",
       "       0.6117647 , 0.69411767, 0.9803922 , 0.9921569 , 0.9921569 ,\n",
       "       0.9921569 , 0.9921569 , 0.8196079 , 0.15686275, 0.        ,\n",
       "       0.        , 0.        , 0.        , 0.        , 0.        ,\n",
       "       0.        , 0.        , 0.        , 0.        , 0.        ,\n",
       "       0.        , 0.        , 0.        , 0.        , 0.        ,\n",
       "       0.        , 0.        , 0.19607845, 0.93725497, 0.9921569 ,\n",
       "       0.9921569 , 0.9921569 , 0.9921569 , 0.9921569 , 0.9921569 ,\n",
       "       0.9921569 , 0.8941177 , 0.76470596, 0.46274513, 0.        ,\n",
       "       0.        , 0.        , 0.        , 0.        , 0.        ,\n",
       "       0.        , 0.        , 0.        , 0.        , 0.        ,\n",
       "       0.        , 0.        , 0.        , 0.        , 0.        ,\n",
       "       0.        , 0.5058824 , 0.61960787, 0.61960787, 0.61960787,\n",
       "       0.61960787, 0.61960787, 0.61960787, 0.61960787, 0.9607844 ,\n",
       "       0.9921569 , 0.97647065, 0.4666667 , 0.        , 0.        ,\n",
       "       0.        , 0.        , 0.        , 0.        , 0.        ,\n",
       "       0.        , 0.        , 0.        , 0.        , 0.        ,\n",
       "       0.        , 0.        , 0.        , 0.        , 0.        ,\n",
       "       0.        , 0.        , 0.        , 0.        , 0.        ,\n",
       "       0.        , 0.        , 0.08235294, 0.32941177, 0.8078432 ,\n",
       "       0.97647065, 0.2509804 , 0.        , 0.        , 0.        ,\n",
       "       0.        , 0.        , 0.        , 0.        , 0.        ,\n",
       "       0.        , 0.        , 0.        , 0.        , 0.        ,\n",
       "       0.        , 0.        , 0.        , 0.        , 0.        ,\n",
       "       0.        , 0.        , 0.        , 0.        , 0.        ,\n",
       "       0.        , 0.        , 0.1254902 , 0.9921569 , 0.7294118 ,\n",
       "       0.        , 0.        , 0.        , 0.        , 0.        ,\n",
       "       0.        , 0.        , 0.        , 0.        , 0.        ,\n",
       "       0.        , 0.        , 0.        , 0.        , 0.        ,\n",
       "       0.        , 0.        , 0.        , 0.        , 0.        ,\n",
       "       0.        , 0.        , 0.09803922, 0.11764707, 0.14117648,\n",
       "       0.627451  , 0.9921569 , 0.52156866, 0.        , 0.        ,\n",
       "       0.        , 0.        , 0.        , 0.        , 0.        ,\n",
       "       0.        , 0.        , 0.        , 0.        , 0.        ,\n",
       "       0.        , 0.        , 0.        , 0.        , 0.16862746,\n",
       "       0.18823531, 0.4039216 , 0.48235297, 0.6509804 , 0.6509804 ,\n",
       "       0.93725497, 0.9921569 , 0.9921569 , 0.9921569 , 0.9921569 ,\n",
       "       0.7843138 , 0.03921569, 0.        , 0.        , 0.        ,\n",
       "       0.        , 0.        , 0.        , 0.        , 0.        ,\n",
       "       0.        , 0.        , 0.        , 0.        , 0.05490196,\n",
       "       0.38823533, 0.7176471 , 0.9607844 , 0.9921569 , 0.9921569 ,\n",
       "       0.9921569 , 0.9921569 , 0.9921569 , 0.9921569 , 0.9921569 ,\n",
       "       0.9921569 , 0.9921569 , 0.9921569 , 0.9921569 , 0.42352945,\n",
       "       0.        , 0.        , 0.        , 0.        , 0.        ,\n",
       "       0.        , 0.        , 0.        , 0.        , 0.        ,\n",
       "       0.        , 0.        , 0.5764706 , 0.9921569 , 0.9921569 ,\n",
       "       0.9921569 , 0.9921569 , 0.9921569 , 0.9921569 , 0.9921569 ,\n",
       "       0.9921569 , 0.9921569 , 0.9921569 , 0.9921569 , 0.80392164,\n",
       "       0.6666667 , 0.54901963, 0.04313726, 0.        , 0.        ,\n",
       "       0.        , 0.        , 0.        , 0.        , 0.        ,\n",
       "       0.        , 0.        , 0.        , 0.        , 0.        ,\n",
       "       0.67058825, 0.9921569 , 0.9921569 , 0.9921569 , 0.9921569 ,\n",
       "       0.9921569 , 0.9921569 , 0.9921569 , 0.9921569 , 0.9921569 ,\n",
       "       0.8196079 , 0.3647059 , 0.05882353, 0.        , 0.        ,\n",
       "       0.        , 0.        , 0.        , 0.        , 0.        ,\n",
       "       0.        , 0.        , 0.        , 0.        , 0.        ,\n",
       "       0.        , 0.        , 0.        , 0.36078432, 0.5294118 ,\n",
       "       0.909804  , 0.9921569 , 0.9921569 , 0.9921569 , 0.9176471 ,\n",
       "       0.5294118 , 0.3921569 , 0.06666667, 0.03921569, 0.        ,\n",
       "       0.        , 0.        , 0.        , 0.        , 0.        ,\n",
       "       0.        , 0.        , 0.        , 0.        , 0.        ,\n",
       "       0.        , 0.        , 0.        , 0.        , 0.        ,\n",
       "       0.        , 0.        , 0.        , 0.        , 0.        ,\n",
       "       0.        , 0.        , 0.        , 0.        , 0.        ,\n",
       "       0.        , 0.        , 0.        , 0.        , 0.        ,\n",
       "       0.        , 0.        , 0.        , 0.        , 0.        ,\n",
       "       0.        , 0.        , 0.        , 0.        , 0.        ,\n",
       "       0.        , 0.        , 0.        , 0.        , 0.        ,\n",
       "       0.        , 0.        , 0.        , 0.        , 0.        ,\n",
       "       0.        , 0.        , 0.        , 0.        , 0.        ,\n",
       "       0.        , 0.        , 0.        , 0.        , 0.        ,\n",
       "       0.        , 0.        , 0.        , 0.        , 0.        ,\n",
       "       0.        , 0.        , 0.        , 0.        , 0.        ,\n",
       "       0.        , 0.        , 0.        , 0.        , 0.        ,\n",
       "       0.        , 0.        , 0.        , 0.        , 0.        ,\n",
       "       0.        , 0.        , 0.        , 0.        , 0.        ,\n",
       "       0.        , 0.        , 0.        , 0.        , 0.        ,\n",
       "       0.        , 0.        , 0.        , 0.        , 0.        ,\n",
       "       0.        , 0.        , 0.        , 0.        , 0.        ,\n",
       "       0.        , 0.        , 0.        , 0.        , 0.        ,\n",
       "       0.        , 0.        , 0.        , 0.        , 0.        ,\n",
       "       0.        , 0.        , 0.        , 0.        , 0.        ,\n",
       "       0.        , 0.        , 0.        , 0.        , 0.        ,\n",
       "       0.        , 0.        , 0.        , 0.        , 0.        ,\n",
       "       0.        , 0.        , 0.        , 0.        , 0.        ,\n",
       "       0.        , 0.        , 0.        , 0.        , 0.        ,\n",
       "       0.        , 0.        , 0.        , 0.        , 0.        ,\n",
       "       0.        , 0.        , 0.        , 0.        , 0.        ,\n",
       "       0.        , 0.        , 0.        , 0.        ], dtype=float32)"
      ]
     },
     "execution_count": 48,
     "metadata": {},
     "output_type": "execute_result"
    }
   ],
   "source": [
    "#first image\n",
    "X_train[0]"
   ]
  },
  {
   "cell_type": "code",
   "execution_count": 49,
   "metadata": {},
   "outputs": [
    {
     "data": {
      "text/plain": [
       "(55000, 10)"
      ]
     },
     "execution_count": 49,
     "metadata": {},
     "output_type": "execute_result"
    }
   ],
   "source": [
    "\n",
    "y_train.shape"
   ]
  },
  {
   "cell_type": "code",
   "execution_count": 50,
   "metadata": {},
   "outputs": [
    {
     "data": {
      "text/plain": [
       "array([0., 0., 0., 1., 0., 0., 0., 0., 0., 0.])"
      ]
     },
     "execution_count": 50,
     "metadata": {},
     "output_type": "execute_result"
    }
   ],
   "source": [
    "#remember! y_train is in one hot encoding format!\n",
    "y_train[0]"
   ]
  },
  {
   "cell_type": "code",
   "execution_count": 51,
   "metadata": {},
   "outputs": [
    {
     "data": {
      "text/plain": [
       "(10000, 784)"
      ]
     },
     "execution_count": 51,
     "metadata": {},
     "output_type": "execute_result"
    }
   ],
   "source": [
    "#1K images for test\n",
    "X_test.shape"
   ]
  },
  {
   "cell_type": "code",
   "execution_count": 55,
   "metadata": {},
   "outputs": [
    {
     "data": {
      "text/plain": [
       "Text(0.5, 1.0, 'Class: 3')"
      ]
     },
     "execution_count": 55,
     "metadata": {},
     "output_type": "execute_result"
    },
    {
     "data": {
      "image/png": "[encoded data removed]",
      "text/plain": [
       "<Figure size 432x288 with 1 Axes>"
      ]
     },
     "metadata": {
      "needs_background": "light"
     },
     "output_type": "display_data"
    }
   ],
   "source": [
    "import matplotlib.pyplot as plt\n",
    "import numpy as np\n",
    "%matplotlib inline\n",
    "plt.imshow(X_train[210].reshape((28,28)), cmap = 'gray')\n",
    "plt.title('Class: ' + str(np.argmax(y_train[210])))"
   ]
  },
  {
   "cell_type": "code",
   "execution_count": 57,
   "metadata": {},
   "outputs": [
    {
     "data": {
      "text/plain": [
       "Text(0.5, 1.0, 'Class: 2')"
      ]
     },
     "execution_count": 57,
     "metadata": {},
     "output_type": "execute_result"
    },
    {
     "data": {
      "image/png": "[encoded data removed]",
      "text/plain": [
       "<Figure size 432x288 with 1 Axes>"
      ]
     },
     "metadata": {
      "needs_background": "light"
     },
     "output_type": "display_data"
    }
   ],
   "source": [
    "plt.imshow(X_train[209].reshape((28,28)))\n",
    "plt.title('Class: ' + str(np.argmax(y_train[209])))"
   ]
  },
  {
   "cell_type": "code",
   "execution_count": 58,
   "metadata": {},
   "outputs": [
    {
     "data": {
      "text/plain": [
       "(128, 784)"
      ]
     },
     "execution_count": 58,
     "metadata": {},
     "output_type": "execute_result"
    }
   ],
   "source": [
    "#batch-size: 128\n",
    "X_batch, y_batch = mnist.train.next_batch(128)\n",
    "X_batch.shape"
   ]
  },
  {
   "cell_type": "code",
   "execution_count": 69,
   "metadata": {},
   "outputs": [
    {
     "data": {
      "text/plain": [
       "784"
      ]
     },
     "execution_count": 69,
     "metadata": {},
     "output_type": "execute_result"
    }
   ],
   "source": [
    "#Number of columns/attributes/features\n",
    "X_train.shape[1] "
   ]
  },
  {
   "cell_type": "code",
   "execution_count": 72,
   "metadata": {},
   "outputs": [
    {
     "data": {
      "text/plain": [
       "10"
      ]
     },
     "execution_count": 72,
     "metadata": {},
     "output_type": "execute_result"
    }
   ],
   "source": [
    "NUMBER_OF_CLASSES = y_train.shape[1]\n",
    "NUMBER_OF_CLASSES"
   ]
  },
  {
   "cell_type": "code",
   "execution_count": 74,
   "metadata": {},
   "outputs": [
    {
     "data": {
      "text/plain": [
       "784"
      ]
     },
     "execution_count": 74,
     "metadata": {},
     "output_type": "execute_result"
    }
   ],
   "source": [
    "NUMBER_OF_FEATURES = X_train.shape[1]\n",
    "NUMBER_OF_FEATURES"
   ]
  },
  {
   "cell_type": "code",
   "execution_count": 67,
   "metadata": {},
   "outputs": [
    {
     "data": {
      "text/plain": [
       "784"
      ]
     },
     "execution_count": 67,
     "metadata": {},
     "output_type": "execute_result"
    }
   ],
   "source": [
    "#Mounting the graph of tensors to NEURAL NETWORK\n",
    "#The number of input neurons equals to the number of features in data!\n",
    "number_neurons_input_layer = NUMBER_OF_FEATURES\n",
    "number_neurons_input_layer"
   ]
  },
  {
   "cell_type": "code",
   "execution_count": 75,
   "metadata": {},
   "outputs": [
    {
     "data": {
      "text/plain": [
       "397"
      ]
     },
     "execution_count": 75,
     "metadata": {},
     "output_type": "execute_result"
    }
   ],
   "source": [
    "#Number of features / number of classes DIVIDED BY 2\n",
    "number_neurons_hidden_layer_1 = int(( NUMBER_OF_FEATURES + NUMBER_OF_CLASSES ) / 2)\n",
    "number_neurons_hidden_layer_1"
   ]
  },
  {
   "cell_type": "code",
   "execution_count": 76,
   "metadata": {},
   "outputs": [
    {
     "data": {
      "text/plain": [
       "10"
      ]
     },
     "execution_count": 76,
     "metadata": {},
     "output_type": "execute_result"
    }
   ],
   "source": [
    "number_neurons_hidden_layer_2 = number_neurons_hidden_layer_1\n",
    "number_neurons_hidden_layer_3 = number_neurons_hidden_layer_1\n",
    "\n",
    "number_neurons_exit_layer = NUMBER_OF_CLASSES\n",
    "number_neurons_exit_layer"
   ]
  },
  {
   "cell_type": "code",
   "execution_count": 31,
   "metadata": {},
   "outputs": [],
   "source": [
    "# Architecture of NEURAL NETWORK (in number of neurons)\n",
    "\"\"\"\n",
    "INPUT LAYER   | H I D D E N  L A Y E R  | EXIT LAYER\n",
    "                 1st      2nd     3rd        \n",
    "784   ->         397  ->  397 ->  397    ->  10\n",
    "\n",
    "\"\"\"\n",
    "import tensorflow as tf"
   ]
  },
  {
   "cell_type": "code",
   "execution_count": 77,
   "metadata": {},
   "outputs": [],
   "source": [
    "#weights\n",
    "W = {'hidden1': tf.Variable(tf.random_normal( [number_neurons_input_layer, number_neurons_hidden_layer_1] )),\n",
    "     'hidden2': tf.Variable(tf.random_normal( [number_neurons_hidden_layer_1, number_neurons_hidden_layer_2] )),\n",
    "     'hidden3': tf.Variable(tf.random_normal( [number_neurons_hidden_layer_2, number_neurons_hidden_layer_3] )),\n",
    "     'exit': tf.Variable(tf.random_normal( [number_neurons_hidden_layer_3, number_neurons_exit_layer] )) \n",
    "}"
   ]
  },
  {
   "cell_type": "code",
   "execution_count": 78,
   "metadata": {},
   "outputs": [],
   "source": [
    "#biases\n",
    "b = {'hidden1': tf.Variable(tf.random_normal([number_neurons_hidden_layer_1])),\n",
    "     'hidden2': tf.Variable(tf.random_normal([number_neurons_hidden_layer_2])),\n",
    "     'hidden3': tf.Variable(tf.random_normal([number_neurons_hidden_layer_3])),\n",
    "     'exit': tf.Variable(tf.random_normal([number_neurons_exit_layer]))   \n",
    "}"
   ]
  },
  {
   "cell_type": "code",
   "execution_count": 79,
   "metadata": {},
   "outputs": [],
   "source": [
    "#placehoders for data\n",
    "xph = tf.placeholder('float', [None, number_neurons_input_layer])\n",
    "yph = tf.placeholder('float', [None, number_neurons_exit_layer])"
   ]
  },
  {
   "cell_type": "code",
   "execution_count": 82,
   "metadata": {},
   "outputs": [],
   "source": [
    "def mlp(x, W, bias):\n",
    "    hidden_layer_1 = tf.nn.relu(tf.add(tf.matmul(x, W['hidden1']), bias['hidden1']))\n",
    "    hidden_layer_2 = tf.nn.relu(tf.add(tf.matmul(hidden_layer_1, W['hidden2']), bias['hidden2']))\n",
    "    hidden_layer_3 = tf.nn.relu(tf.add(tf.matmul(hidden_layer_2, W['hidden3']), bias['hidden3']))\n",
    "    exit_layer = tf.add(tf.matmul(hidden_layer_3, W['exit']), bias['exit'])\n",
    "    return exit_layer"
   ]
  },
  {
   "cell_type": "code",
   "execution_count": 83,
   "metadata": {},
   "outputs": [],
   "source": [
    "model = mlp(xph, W, b)\n",
    "error = tf.reduce_mean(tf.nn.softmax_cross_entropy_with_logits_v2(logits = model, labels = yph))\n",
    "optimizer = tf.train.AdamOptimizer(learning_rate = 0.0001).minimize(error)"
   ]
  },
  {
   "cell_type": "code",
   "execution_count": 86,
   "metadata": {},
   "outputs": [],
   "source": [
    "predictions = tf.nn.softmax(model)\n",
    "correct_predictions = tf.equal(tf.argmax(predictions, 1), tf.argmax(yph, 1))\n",
    "accuracy = tf.reduce_mean(tf.cast(correct_predictions, tf.float32))"
   ]
  },
  {
   "cell_type": "code",
   "execution_count": 87,
   "metadata": {},
   "outputs": [
    {
     "name": "stdout",
     "output_type": "stream",
     "text": [
      "Epoch: 1 error: 41974.04 acc: [0.1328125]\n",
      "Epoch: 101 error: 17880.732 acc: [0.1875]\n",
      "Epoch: 201 error: 8281.586 acc: [0.3671875]\n",
      "Epoch: 301 error: 6556.708 acc: [0.4453125]\n",
      "Epoch: 401 error: 4263.1416 acc: [0.5546875]\n",
      "Epoch: 501 error: 3510.0024 acc: [0.6328125]\n",
      "Epoch: 601 error: 2628.1436 acc: [0.625]\n",
      "Epoch: 701 error: 2611.1362 acc: [0.703125]\n",
      "Epoch: 801 error: 2880.927 acc: [0.65625]\n",
      "Epoch: 901 error: 2176.797 acc: [0.796875]\n",
      "Epoch: 1001 error: 2380.7793 acc: [0.7109375]\n",
      "Epoch: 1101 error: 1864.9735 acc: [0.75]\n",
      "Epoch: 1201 error: 2018.6472 acc: [0.765625]\n",
      "Epoch: 1301 error: 1607.5393 acc: [0.796875]\n",
      "Epoch: 1401 error: 1186.7479 acc: [0.8125]\n",
      "Epoch: 1501 error: 1295.1389 acc: [0.796875]\n",
      "Epoch: 1601 error: 1379.8314 acc: [0.8203125]\n",
      "Epoch: 1701 error: 2012.8179 acc: [0.7578125]\n",
      "Epoch: 1801 error: 1741.8384 acc: [0.8046875]\n",
      "Epoch: 1901 error: 1428.704 acc: [0.8125]\n",
      "Epoch: 2001 error: 1092.9143 acc: [0.859375]\n",
      "Epoch: 2101 error: 944.3253 acc: [0.8984375]\n",
      "Epoch: 2201 error: 1134.826 acc: [0.8046875]\n",
      "Epoch: 2301 error: 1082.5117 acc: [0.859375]\n",
      "Epoch: 2401 error: 643.35144 acc: [0.9140625]\n",
      "Epoch: 2501 error: 940.92725 acc: [0.875]\n",
      "Epoch: 2601 error: 805.062 acc: [0.8515625]\n",
      "Epoch: 2701 error: 735.02686 acc: [0.8515625]\n",
      "Epoch: 2801 error: 785.95337 acc: [0.8828125]\n",
      "Epoch: 2901 error: 749.2274 acc: [0.9140625]\n",
      "Epoch: 3001 error: 769.8572 acc: [0.90625]\n",
      "Epoch: 3101 error: 817.33606 acc: [0.8828125]\n",
      "Epoch: 3201 error: 671.0917 acc: [0.890625]\n",
      "Epoch: 3301 error: 1037.7675 acc: [0.84375]\n",
      "Epoch: 3401 error: 700.28754 acc: [0.875]\n",
      "Epoch: 3501 error: 496.15704 acc: [0.921875]\n",
      "Epoch: 3601 error: 752.9636 acc: [0.8515625]\n",
      "Epoch: 3701 error: 581.7029 acc: [0.875]\n",
      "Epoch: 3801 error: 567.6322 acc: [0.875]\n",
      "Epoch: 3901 error: 711.45526 acc: [0.859375]\n",
      "Epoch: 4001 error: 521.298 acc: [0.8984375]\n",
      "Epoch: 4101 error: 432.72925 acc: [0.9140625]\n",
      "Epoch: 4201 error: 417.988 acc: [0.90625]\n",
      "Epoch: 4301 error: 274.1659 acc: [0.921875]\n",
      "Epoch: 4401 error: 577.9082 acc: [0.90625]\n",
      "Epoch: 4501 error: 524.34863 acc: [0.9296875]\n",
      "Epoch: 4601 error: 302.4231 acc: [0.921875]\n",
      "Epoch: 4701 error: 322.0355 acc: [0.9609375]\n",
      "Epoch: 4801 error: 561.8423 acc: [0.890625]\n",
      "Epoch: 4901 error: 808.84186 acc: [0.90625]\n",
      "Trainning finished!\n",
      "0.8903\n"
     ]
    }
   ],
   "source": [
    "with tf.Session() as sess:\n",
    "    sess.run(tf.global_variables_initializer())\n",
    "    \n",
    "    for epoch in range(5000):\n",
    "        \n",
    "        #batch size: 128\n",
    "        X_batch, y_batch = mnist.train.next_batch(128)\n",
    "        \n",
    "        _, cost = sess.run([optimizer, error], feed_dict = {xph: X_batch, yph: y_batch})\n",
    "        \n",
    "        if epoch % 100 == 0:\n",
    "            acc = sess.run([accuracy], feed_dict = {xph: X_batch, yph: y_batch})\n",
    "            print('Epoch: ' + str((epoch + 1)) + ' error: ' + str(cost) + ' acc: ' + str(acc))\n",
    "            \n",
    "    print('Trainning finished!')\n",
    "    print(sess.run(accuracy, feed_dict = {xph: X_test, yph: y_test}))"
   ]
  },
  {
   "cell_type": "code",
   "execution_count": 88,
   "metadata": {},
   "outputs": [
    {
     "data": {
      "text/plain": [
       "array([[0., 0., 0., ..., 1., 0., 0.],\n",
       "       [0., 0., 1., ..., 0., 0., 0.],\n",
       "       [0., 1., 0., ..., 0., 0., 0.],\n",
       "       ...,\n",
       "       [0., 0., 0., ..., 0., 0., 0.],\n",
       "       [0., 0., 0., ..., 0., 0., 0.],\n",
       "       [0., 0., 0., ..., 0., 0., 0.]])"
      ]
     },
     "execution_count": 88,
     "metadata": {},
     "output_type": "execute_result"
    }
   ],
   "source": [
    "y_test"
   ]
  },
  {
   "cell_type": "code",
   "execution_count": null,
   "metadata": {},
   "outputs": [],
   "source": []
  }
 ],
 "metadata": {
  "kernelspec": {
   "display_name": "Python 3",
   "language": "python",
   "name": "python3"
  },
  "language_info": {
   "codemirror_mode": {
    "name": "ipython",
    "version": 3
   },
   "file_extension": ".py",
   "mimetype": "text/x-python",
   "name": "python",
   "nbconvert_exporter": "python",
   "pygments_lexer": "ipython3",
   "version": "3.7.3"
  }
 },
 "nbformat": 4,
 "nbformat_minor": 2
}
