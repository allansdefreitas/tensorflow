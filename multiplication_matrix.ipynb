{
 "cells": [
  {
   "cell_type": "code",
   "execution_count": 3,
   "metadata": {},
   "outputs": [],
   "source": [
    "import tensorflow as tf"
   ]
  },
  {
   "cell_type": "code",
   "execution_count": 5,
   "metadata": {},
   "outputs": [],
   "source": [
    "a = tf.constant(([2,3],[-2,3]))"
   ]
  },
  {
   "cell_type": "code",
   "execution_count": 7,
   "metadata": {},
   "outputs": [],
   "source": [
    "b = tf.constant(([1,2],[5,-6]))"
   ]
  },
  {
   "cell_type": "code",
   "execution_count": 10,
   "metadata": {},
   "outputs": [],
   "source": [
    "mult = tf.matmul(a,b) #TF.MATMUL: TEM QUE USAR ESSE PRA NÃO MULTIPLICAR ERRADO!! AB != BA"
   ]
  },
  {
   "cell_type": "code",
   "execution_count": 11,
   "metadata": {},
   "outputs": [
    {
     "name": "stdout",
     "output_type": "stream",
     "text": [
      "[[ 2  3]\n",
      " [-2  3]]\n",
      "\n",
      "   *\n",
      "\n",
      "[[ 1  2]\n",
      " [ 5 -6]]\n",
      "\n",
      "    =\n",
      "\n",
      "[[ 17 -14]\n",
      " [ 13 -22]]\n"
     ]
    }
   ],
   "source": [
    "with tf.Session() as ses:\n",
    "    print(ses.run(a))\n",
    "    print(\"\\n   *\\n\")\n",
    "    print(ses.run(b))\n",
    "    print(\"\\n    =\\n\")\n",
    "    print(ses.run(mult))"
   ]
  },
  {
   "cell_type": "code",
   "execution_count": 12,
   "metadata": {},
   "outputs": [],
   "source": [
    "c = tf.constant(([2,2],[3,3],[-2,0])) # Matrix C(3,2) D(2,3)"
   ]
  },
  {
   "cell_type": "code",
   "execution_count": 13,
   "metadata": {},
   "outputs": [],
   "source": [
    "d = tf.constant(([3,3,1],[4,5,2]))"
   ]
  },
  {
   "cell_type": "code",
   "execution_count": 14,
   "metadata": {},
   "outputs": [],
   "source": [
    "multCD = tf.matmul(c,d)"
   ]
  },
  {
   "cell_type": "code",
   "execution_count": 15,
   "metadata": {},
   "outputs": [
    {
     "name": "stdout",
     "output_type": "stream",
     "text": [
      "[[14 16  6]\n",
      " [21 24  9]\n",
      " [-6 -6 -2]]\n"
     ]
    }
   ],
   "source": [
    "with tf.Session() as ses:\n",
    "    print(ses.run(multCD))"
   ]
  },
  {
   "cell_type": "code",
   "execution_count": null,
   "metadata": {},
   "outputs": [],
   "source": []
  }
 ],
 "metadata": {
  "kernelspec": {
   "display_name": "Python 3",
   "language": "python",
   "name": "python3"
  },
  "language_info": {
   "codemirror_mode": {
    "name": "ipython",
    "version": 3
   },
   "file_extension": ".py",
   "mimetype": "text/x-python",
   "name": "python",
   "nbconvert_exporter": "python",
   "pygments_lexer": "ipython3",
   "version": "3.7.3"
  }
 },
 "nbformat": 4,
 "nbformat_minor": 2
}
