{
 "cells": [
  {
   "cell_type": "code",
   "execution_count": 1,
   "metadata": {},
   "outputs": [],
   "source": [
    "import tensorflow as tf"
   ]
  },
  {
   "cell_type": "code",
   "execution_count": 2,
   "metadata": {},
   "outputs": [],
   "source": [
    "a = tf.constant(([1,2,3]), name=\"a\")\n",
    "b = tf.constant(([4,5,6]),name=\"b\")"
   ]
  },
  {
   "cell_type": "code",
   "execution_count": 4,
   "metadata": {},
   "outputs": [
    {
     "data": {
      "text/plain": [
       "tensorflow.python.framework.ops.Tensor"
      ]
     },
     "execution_count": 4,
     "metadata": {},
     "output_type": "execute_result"
    }
   ],
   "source": [
    "type(a)"
   ]
  },
  {
   "cell_type": "code",
   "execution_count": 5,
   "metadata": {},
   "outputs": [
    {
     "name": "stdout",
     "output_type": "stream",
     "text": [
      "Tensor(\"a:0\", shape=(3,), dtype=int32)\n"
     ]
    }
   ],
   "source": [
    "print(a) #IT'S  VECTOR"
   ]
  },
  {
   "cell_type": "code",
   "execution_count": 6,
   "metadata": {},
   "outputs": [],
   "source": [
    "sum = a + b"
   ]
  },
  {
   "cell_type": "code",
   "execution_count": 12,
   "metadata": {},
   "outputs": [
    {
     "name": "stdout",
     "output_type": "stream",
     "text": [
      "[5 7 9]\n"
     ]
    }
   ],
   "source": [
    "with tf.Session() as ses:\n",
    "    print(ses.run(sum))\n",
    "    "
   ]
  },
  {
   "cell_type": "code",
   "execution_count": 13,
   "metadata": {},
   "outputs": [],
   "source": [
    "matrix_a = tf.constant(([2,3,4,], [8,7,6]), name=\"matrix_1\")"
   ]
  },
  {
   "cell_type": "code",
   "execution_count": 14,
   "metadata": {},
   "outputs": [],
   "source": [
    "matrix_b = tf.constant(([5,6,7],[3,4,5]), name=\"matrix_2\" )"
   ]
  },
  {
   "cell_type": "code",
   "execution_count": 18,
   "metadata": {},
   "outputs": [],
   "source": [
    "matrix_sum = tf.add(matrix_a, matrix_b)"
   ]
  },
  {
   "cell_type": "code",
   "execution_count": 25,
   "metadata": {},
   "outputs": [
    {
     "name": "stdout",
     "output_type": "stream",
     "text": [
      "[[2 3 4]\n",
      " [8 7 6]]\n",
      "\n",
      "   +\n",
      "\n",
      "[[5 6 7]\n",
      " [3 4 5]]\n",
      "\n",
      "   =\n",
      "\n",
      "[[ 7  9 11]\n",
      " [11 11 11]]\n"
     ]
    }
   ],
   "source": [
    "with tf.Session() as ses:\n",
    "    print(ses.run(matrix_a))\n",
    "    print('\\n   +\\n')\n",
    "    print(ses.run(matrix_b))\n",
    "    print('\\n   =\\n')\n",
    "    print(ses.run(matrix_sum))"
   ]
  },
  {
   "cell_type": "code",
   "execution_count": 35,
   "metadata": {},
   "outputs": [],
   "source": [
    "matrix_c = tf.constant(([1,2,3],[4,5,6]))\n",
    "matrix_d = tf.constant(([1],[2]))\n",
    "sum_2 = tf.add(matrix_c, matrix_d) #somou todos elementos da linha i(j1,j2,j3) da matriz c com o (i1,j1) de d\n",
    "#da mesma forma, para toda a linha i2 (j1,j2,j3) com j2 da matriz d"
   ]
  },
  {
   "cell_type": "code",
   "execution_count": 36,
   "metadata": {},
   "outputs": [
    {
     "name": "stdout",
     "output_type": "stream",
     "text": [
      "[[1 2 3]\n",
      " [4 5 6]]\n",
      "\n",
      "   +\n",
      "\n",
      "[[1]\n",
      " [2]]\n",
      "\n",
      "   =\n",
      "\n",
      "[[2 3 4]\n",
      " [6 7 8]]\n"
     ]
    }
   ],
   "source": [
    "with tf.Session() as ses:\n",
    "    print(ses.run(matrix_c))\n",
    "    print(\"\\n   +\\n\")\n",
    "    print(ses.run(matrix_d))\n",
    "    print(\"\\n   =\\n\")\n",
    "    print(ses.run(sum_2)) "
   ]
  }
 ],
 "metadata": {
  "kernelspec": {
   "display_name": "Python 3",
   "language": "python",
   "name": "python3"
  },
  "language_info": {
   "codemirror_mode": {
    "name": "ipython",
    "version": 3
   },
   "file_extension": ".py",
   "mimetype": "text/x-python",
   "name": "python",
   "nbconvert_exporter": "python",
   "pygments_lexer": "ipython3",
   "version": "3.7.3"
  }
 },
 "nbformat": 4,
 "nbformat_minor": 2
}
